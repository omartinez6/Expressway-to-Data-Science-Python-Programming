{
 "cells": [
  {
   "cell_type": "markdown",
   "metadata": {
    "id": "cnAUJprJdh9_"
   },
   "source": [
    "# Welcome to our Lab Practice!"
   ]
  },
  {
   "cell_type": "markdown",
   "metadata": {
    "id": "vVYcayGedmms"
   },
   "source": [
    "This lab is about branching - if statements. Are you ready? Let's get started!"
   ]
  },
  {
   "cell_type": "markdown",
   "metadata": {
    "id": "JP8eGBVyeSQx"
   },
   "source": [
    "You will find some small tasks in sections below. "
   ]
  },
  {
   "cell_type": "markdown",
   "metadata": {
    "id": "EZ42d1Sue0Zp"
   },
   "source": [
    "###Task: check if a number is even. \n",
    "\n",
    "You should ask the user to enter an integer, if it is an even number, print \"it is even\"; otherwise, print nothing.\n",
    "\n",
    "hint: to test if a number is even, we need to use %2 and check the reminder is 0 or not. If it is 0, then the number is even."
   ]
  },
  {
   "cell_type": "code",
   "execution_count": 2,
   "metadata": {
    "id": "yDzNIHsSeu85",
    "tags": []
   },
   "outputs": [
    {
     "name": "stdin",
     "output_type": "stream",
     "text": [
      "Por favor ingresa un número entero: 4\n"
     ]
    },
    {
     "name": "stdout",
     "output_type": "stream",
     "text": [
      "It is even\n"
     ]
    }
   ],
   "source": [
    "# type your code here\n",
    "x = int(input('Por favor ingresa un número entero:'))\n",
    "\n",
    "if x % 2 == 0:\n",
    "    print('It is even')"
   ]
  },
  {
   "cell_type": "markdown",
   "metadata": {
    "id": "u8WEYfEqIbWX"
   },
   "source": [
    "###Task: check if a number is odd. \n",
    "\n",
    "Similar to the task above. However, this time, you only print \"It is odd\" when the number entered is odd."
   ]
  },
  {
   "cell_type": "code",
   "execution_count": 4,
   "metadata": {
    "id": "LKSmcHRRJUYY",
    "tags": []
   },
   "outputs": [
    {
     "name": "stdin",
     "output_type": "stream",
     "text": [
      "Por favor ingresa un número entero: 3\n"
     ]
    },
    {
     "name": "stdout",
     "output_type": "stream",
     "text": [
      "It is odd\n"
     ]
    }
   ],
   "source": [
    "# type your code here\n",
    "x = int(input('Por favor ingresa un número entero:'))\n",
    "\n",
    "if x % 2 != 0:\n",
    "    print('It is odd')"
   ]
  },
  {
   "cell_type": "markdown",
   "metadata": {
    "id": "-__o8ovbfSEH"
   },
   "source": [
    "###Task: check if a number is divisible by 6 \n",
    "\n",
    "You should ask the user to enter an integer, if it is dividable by 6, print \"It can be divisible by 6\"."
   ]
  },
  {
   "cell_type": "code",
   "execution_count": 9,
   "metadata": {
    "id": "hOpxhSKog18Y",
    "tags": []
   },
   "outputs": [
    {
     "name": "stdin",
     "output_type": "stream",
     "text": [
      "Por favor ingresa un número entero: 41\n"
     ]
    }
   ],
   "source": [
    "# your code will be here\n",
    "x = int(input('Por favor ingresa un número entero:'))\n",
    "\n",
    "if x % 6 == 0:\n",
    "    print('It is divisible by 6')"
   ]
  },
  {
   "cell_type": "markdown",
   "metadata": {
    "id": "uZYVZQIvIlPy"
   },
   "source": [
    "###Task: check if an input is 'STOP'  \n",
    "\n",
    "Ask the user to enter some words, and only when the user entered \"STOP\", you print \"Bye\"."
   ]
  },
  {
   "cell_type": "code",
   "execution_count": 11,
   "metadata": {
    "id": "Y_3dcyvcQ2GI",
    "tags": []
   },
   "outputs": [
    {
     "name": "stdin",
     "output_type": "stream",
     "text": [
      "Por favor ingresa un número entero: STOP\n"
     ]
    },
    {
     "name": "stdout",
     "output_type": "stream",
     "text": [
      "Bye\n"
     ]
    }
   ],
   "source": [
    "# your code will be here\n",
    "x = input('Por favor ingresa un número entero:)\n",
    "\n",
    "if x == 'STOP':\n",
    "    print('Bye')"
   ]
  },
  {
   "cell_type": "markdown",
   "metadata": {
    "id": "qKFwdIypmt5J"
   },
   "source": [
    "### Task: Password Setup\n",
    "\n",
    "*   Ask the user to enter a new password.\n",
    "*   Ask the user to enter the password again.\n",
    "*   If the second input matches the first one, print \"You are all set\"\n"
   ]
  },
  {
   "cell_type": "code",
   "execution_count": 13,
   "metadata": {
    "id": "6pqvFtl8nHei",
    "tags": []
   },
   "outputs": [
    {
     "name": "stdin",
     "output_type": "stream",
     "text": [
      "Ingresa una contraseña: dergfre\n",
      "Ingresa la contraseña de nuevo: 6\n"
     ]
    }
   ],
   "source": [
    "# your code will be here\n",
    "x = input('Ingresa una contraseña:')\n",
    "y = input('Ingresa la contraseña de nuevo:')\n",
    "\n",
    "if x == y:\n",
    "    print('You\\'re all set')"
   ]
  }
 ],
 "metadata": {
  "colab": {
   "authorship_tag": "ABX9TyMqkhpFDQjNmO0/NMLJ+J7z",
   "collapsed_sections": [],
   "name": "M3Lab1.ipynb",
   "provenance": [],
   "toc_visible": true
  },
  "kernelspec": {
   "display_name": "Python 3 (ipykernel)",
   "language": "python",
   "name": "python3"
  },
  "language_info": {
   "codemirror_mode": {
    "name": "ipython",
    "version": 3
   },
   "file_extension": ".py",
   "mimetype": "text/x-python",
   "name": "python",
   "nbconvert_exporter": "python",
   "pygments_lexer": "ipython3",
   "version": "3.11.0"
  }
 },
 "nbformat": 4,
 "nbformat_minor": 4
}
