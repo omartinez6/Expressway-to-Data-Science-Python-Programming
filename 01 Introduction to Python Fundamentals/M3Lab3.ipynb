{
 "cells": [
  {
   "cell_type": "markdown",
   "metadata": {
    "id": "cnAUJprJdh9_"
   },
   "source": [
    "# Welcome to our Lab Practice!"
   ]
  },
  {
   "cell_type": "markdown",
   "metadata": {
    "id": "vVYcayGedmms"
   },
   "source": [
    "This lab is about branching - if-elif-else statements. Are you ready? Let's get started!"
   ]
  },
  {
   "cell_type": "markdown",
   "metadata": {
    "id": "JP8eGBVyeSQx"
   },
   "source": [
    "You will find some small tasks in sections below. "
   ]
  },
  {
   "cell_type": "markdown",
   "metadata": {
    "id": "EZ42d1Sue0Zp"
   },
   "source": [
    "###Task: check if a number is positive, negative, or 0. \n",
    "\n",
    "You should ask the user to enter a number, if it is above 0, print \"It is positive\"; if it is below 0, print \"It is negative\"; otherwise, print \"It is zero\"."
   ]
  },
  {
   "cell_type": "code",
   "execution_count": 6,
   "metadata": {
    "id": "yDzNIHsSeu85"
   },
   "outputs": [
    {
     "name": "stdin",
     "output_type": "stream",
     "text": [
      "Ingresa un número: 0\n"
     ]
    },
    {
     "name": "stdout",
     "output_type": "stream",
     "text": [
      "Ingresaste 0\n"
     ]
    }
   ],
   "source": [
    "# type your code here\n",
    "numero = float(input('Ingresa un número:'))\n",
    "\n",
    "if numero > 0:\n",
    "    print(numero,'es un número positivo')\n",
    "elif numero < 0:\n",
    "    print(numero,'es un número negativo')\n",
    "else:\n",
    "    print('Ingresaste 0')"
   ]
  },
  {
   "cell_type": "markdown",
   "metadata": {
    "id": "u8WEYfEqIbWX"
   },
   "source": [
    "###Task: check how many days current month has. \n",
    "\n",
    "You should ask the user to enter the number indicating the current month, such as 1 as Janurary; then print the days the month has, such as print 31 if the user entered 1. Let's assume there are 28 days in February."
   ]
  },
  {
   "cell_type": "code",
   "execution_count": 10,
   "metadata": {
    "id": "LKSmcHRRJUYY"
   },
   "outputs": [
    {
     "name": "stdin",
     "output_type": "stream",
     "text": [
      "Ingresa el número del mes del que deseas conocer cuántos días tiene: 11\n"
     ]
    },
    {
     "name": "stdout",
     "output_type": "stream",
     "text": [
      "Tiene 30 días\n"
     ]
    }
   ],
   "source": [
    "# type your code here\n",
    "mes = int(input('Ingresa el número del mes del que deseas conocer cuántos días tiene:'))\n",
    "\n",
    "if mes == 1 or mes == 3 or mes == 5 or mes == 7 or mes == 8 or mes == 10 or mes == 12:\n",
    "    print('Tiene 31 días')\n",
    "elif mes == 4 or mes == 6 or mes == 9 or mes == 11:\n",
    "    print('Tiene 30 días')\n",
    "else:\n",
    "    print('Tiene 28 días')"
   ]
  },
  {
   "cell_type": "markdown",
   "metadata": {
    "id": "-__o8ovbfSEH"
   },
   "source": [
    "###Task: collect parking fee \n",
    "\n",
    "A parking garage has following price policy\n",
    "\n",
    "\n",
    "1.   first half hour: 5\n",
    "2.   second half hour to 2 hours: 15\n",
    "3.   more than 2 hours: 5 per hour\n",
    "\n",
    "Ask the user to enter the hours of parking (it should be a float number, such as 1.6 as 1.6 hours), and calculate the parking fee.\n",
    "\n"
   ]
  },
  {
   "cell_type": "code",
   "execution_count": 19,
   "metadata": {
    "id": "hOpxhSKog18Y"
   },
   "outputs": [
    {
     "name": "stdin",
     "output_type": "stream",
     "text": [
      "Ingresa las horas de estacionamiento: 2.01\n"
     ]
    },
    {
     "name": "stdout",
     "output_type": "stream",
     "text": [
      "Son 20.049999999999997 dólares\n"
     ]
    }
   ],
   "source": [
    "# your code will be here\n",
    "horas = float(input('Ingresa las horas de estacionamiento:'))\n",
    "\n",
    "if horas <= 0.5:\n",
    "    tarifa = 5\n",
    "elif horas <= 2:\n",
    "    tarifa = 20\n",
    "else:\n",
    "    tarifa = 20 + 5 * (horas - 2)\n",
    "\n",
    "print('Son',tarifa,'dólares')"
   ]
  },
  {
   "cell_type": "markdown",
   "metadata": {
    "id": "uZYVZQIvIlPy"
   },
   "source": [
    "###Task: What stage are you in?  \n",
    "\n",
    "Write a program that asks the user to enter a person’s age. The program should display a message indicating whether the person is an infant, a child, a teenager, an adult, or a senior citizen. \n",
    "\n",
    "Following are the guidelines:\n",
    "1.   If the person is 1 year old or less, he or she is an infant.\n",
    "1.   If the person is older than 1 year, but younger than 13 years, he or she is a child.\n",
    "1.   If the person is at least 13 years old, but less than 20 years old, he or she is a teenager.\n",
    "1.   If the person is at least 20 years old, but less than 65 years old, he or she is an adult.\n",
    "1.   Otherwise the person is a senior citizen."
   ]
  },
  {
   "cell_type": "code",
   "execution_count": 15,
   "metadata": {
    "id": "Y_3dcyvcQ2GI"
   },
   "outputs": [
    {
     "name": "stdin",
     "output_type": "stream",
     "text": [
      "¿Qué edad tienes?: 65\n"
     ]
    },
    {
     "name": "stdout",
     "output_type": "stream",
     "text": [
      "Adulto mayor\n"
     ]
    }
   ],
   "source": [
    "# your code will be here\n",
    "edad = int(input('¿Qué edad tienes?:'))\n",
    "\n",
    "if edad <= 1:\n",
    "    print('Infante')\n",
    "elif edad < 13:\n",
    "    print('Niño')\n",
    "elif edad < 20:\n",
    "    print('Adolescente')\n",
    "elif edad < 65:\n",
    "    print('Adulto')\n",
    "else:\n",
    "    print('Adulto mayor')"
   ]
  },
  {
   "cell_type": "code",
   "execution_count": null,
   "metadata": {},
   "outputs": [],
   "source": []
  }
 ],
 "metadata": {
  "colab": {
   "authorship_tag": "ABX9TyNnhJlGnE+NLLYflt9CoF9e",
   "collapsed_sections": [],
   "name": "M3Lab3.ipynb",
   "provenance": [],
   "toc_visible": true
  },
  "kernelspec": {
   "display_name": "Python 3 (ipykernel)",
   "language": "python",
   "name": "python3"
  },
  "language_info": {
   "codemirror_mode": {
    "name": "ipython",
    "version": 3
   },
   "file_extension": ".py",
   "mimetype": "text/x-python",
   "name": "python",
   "nbconvert_exporter": "python",
   "pygments_lexer": "ipython3",
   "version": "3.11.0"
  }
 },
 "nbformat": 4,
 "nbformat_minor": 4
}
