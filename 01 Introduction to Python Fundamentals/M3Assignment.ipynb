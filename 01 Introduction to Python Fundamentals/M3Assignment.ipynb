{
 "cells": [
  {
   "cell_type": "markdown",
   "metadata": {
    "id": "cnAUJprJdh9_"
   },
   "source": [
    "# Welcome to our third assignment!"
   ]
  },
  {
   "cell_type": "markdown",
   "metadata": {
    "id": "vVYcayGedmms"
   },
   "source": [
    "This assignment is about testing your understanding of flow control: branching.\n",
    "\n",
    "We are going to create some simple programs using these tools. Are you ready? Let's get started!"
   ]
  },
  {
   "cell_type": "markdown",
   "metadata": {
    "id": "JP8eGBVyeSQx"
   },
   "source": [
    "You will find some small tasks in sections below. You should use input() to get the user to enter the information and use print() to print the information on the screen. At this moment, we can assume users will follow instructions carefully - they will enter the valid inputs as required."
   ]
  },
  {
   "cell_type": "markdown",
   "metadata": {
    "id": "TNbXeCDFeAcJ"
   },
   "source": [
    "## What day is today?\n",
    "\n",
    "###Instruction: Write a program that asks the user for a number in the range of 1 through 7. The program should display the corresponding day of the week, where \n",
    "\n",
    "* 1    = Monday, \n",
    "* 2    = Tuesday, \n",
    "* 3    = Wednesday, \n",
    "* 4    = Thursday, \n",
    "* 5    = Friday, \n",
    "* 6    = Saturday, and \n",
    "* 7    = Sunday\n",
    "* all other value entered = ERROR"
   ]
  },
  {
   "cell_type": "code",
   "execution_count": 6,
   "metadata": {
    "id": "x6IbZ6rFw76O"
   },
   "outputs": [
    {
     "name": "stdin",
     "output_type": "stream",
     "text": [
      "Ingresa un número para devolver su día correspondiente: 7\n"
     ]
    },
    {
     "name": "stdout",
     "output_type": "stream",
     "text": [
      "Hoy es domingo\n"
     ]
    }
   ],
   "source": [
    "# your code is here\n",
    "numero = input('Ingresa un número para devolver su día correspondiente:')\n",
    "\n",
    "if numero == '1':\n",
    "    print('Hoy es lunes')\n",
    "elif numero == '2':\n",
    "    print('Hoy es martes')\n",
    "elif numero == '3':\n",
    "    print('Hoy es miércoles')\n",
    "elif numero == '4':\n",
    "    print('Hoy es jueves')\n",
    "elif numero == '5':\n",
    "    print('Hoy es viernes')\n",
    "elif numero == '6':\n",
    "    print('Hoy es sábado')\n",
    "elif numero == '7':\n",
    "    print('Hoy es domingo')\n",
    "else:\n",
    "    print('ERROR')"
   ]
  },
  {
   "cell_type": "markdown",
   "metadata": {
    "id": "fZfiqg5lxFKF"
   },
   "source": [
    "##### Tax Calculator\n",
    "\n",
    "###Instruction: You are going to program a  simple tax calculator.\n",
    "\n",
    "step1: Ask the user to enter the gross income of year 2022.\n",
    "\n",
    "step2: Calculate the tax based on following formula:\n",
    "\n",
    "1.   Less than \\$100,000, one pays just 1%\n",
    "2.   More than \\$100,000 one pays 5%\n",
    "3.   More than \\$500,000 then one pays 5% tax on the first 500,000 and 2 cents for every dollar above 500,000\n",
    "\n",
    "step3: Print the tax amount on the screen."
   ]
  },
  {
   "cell_type": "code",
   "execution_count": 9,
   "metadata": {
    "id": "2bODNGPSx1-m"
   },
   "outputs": [
    {
     "name": "stdin",
     "output_type": "stream",
     "text": [
      "Indica tus ingresos para calcular tus impuestos 500000\n"
     ]
    },
    {
     "name": "stdout",
     "output_type": "stream",
     "text": [
      "Tus impuestos son de 25000.0\n"
     ]
    }
   ],
   "source": [
    "# your code is here\n",
    "ingresos = float(input('Indica tus ingresos para calcular tus impuestos'))\n",
    "\n",
    "if ingresos < 100000:\n",
    "    impuesto = ingresos * 0.01\n",
    "elif ingresos <= 500000:\n",
    "    impuesto = ingresos * 0.05\n",
    "else:\n",
    "    impuesto = 500000 * 0.05 + (ingresos - 500000) * 0.02\n",
    "    \n",
    "print('Tus impuestos son de',impuesto)"
   ]
  },
  {
   "cell_type": "markdown",
   "metadata": {
    "id": "cZmW-HnwyHcI"
   },
   "source": [
    "## A Simple Calculator\n",
    "\n",
    "###Instruction: You are going to program a super simple Calcualtor.\n",
    "\n",
    "step1: Ask the user to enter the first number, store it in x\n",
    "\n",
    "step2: Ask the user to enter the second number, store it in y \n",
    "\n",
    "step3: Ask the user to enter the operator, store it in p\n",
    "\n",
    "step4: Calculate the result of x p y.\n",
    "\n",
    "For example, if the user entered 2, 3, and +, you should print 2.0 + 3.0 = 5.0 on the screen"
   ]
  },
  {
   "cell_type": "code",
   "execution_count": 15,
   "metadata": {
    "id": "wk6FHvAvyr_G",
    "jp-MarkdownHeadingCollapsed": true,
    "tags": []
   },
   "outputs": [
    {
     "name": "stdin",
     "output_type": "stream",
     "text": [
      "Ingresa el primer número 25\n",
      "Ingresa el segundo número 85\n",
      "Ingresa la operación que deseas realizar (+,-,*,/) -\n"
     ]
    },
    {
     "name": "stdout",
     "output_type": "stream",
     "text": [
      "25.0 - 85.0 es igual a -60.0\n"
     ]
    }
   ],
   "source": [
    "##### your code is here\n",
    "x = float(input('Ingresa el primer número'))\n",
    "y = float(input('Ingresa el segundo número'))\n",
    "operador = input('Ingresa la operación que deseas realizar (+,-,*,/)')\n",
    "\n",
    "if operador == '+':\n",
    "    print(x,'+',y,'es igual a',x+y)\n",
    "elif operador == '-':\n",
    "    print(x,'-',y,'es igual a',x-y)\n",
    "elif operador == '*':\n",
    "    print(x,'*',y,'es igual a',x*y)\n",
    "elif operador == '/':\n",
    "    print(x,'/',y,'es igual a',x/y)\n",
    "else:\n",
    "    print('Error: Ingresa una operación válida')"
   ]
  },
  {
   "cell_type": "markdown",
   "metadata": {
    "id": "auP4vt99EOJx"
   },
   "source": [
    "## Taxi Fare Calculator\n",
    "\n",
    "###Instruction: You are going to program a simple Calcualtor for a taxi.\n",
    "\n",
    "step1: Ask the driver to enter total miles, store it in m\n",
    "\n",
    "step2: Calculate the fare based on the formular\n",
    "\n",
    "*   if m < 10, fare is \\$5\n",
    "*   if 10 <= m < 20, fare is \\$5 plus \\$1 for every mile beyond 10.\n",
    "*   if m >= 20, fare is \\$5 plus \\$1.5 for every mile beyond 10\n",
    "\n",
    "step3: print the fare.\n"
   ]
  },
  {
   "cell_type": "code",
   "execution_count": 21,
   "metadata": {
    "id": "3sEH96OkGAzR"
   },
   "outputs": [
    {
     "name": "stdin",
     "output_type": "stream",
     "text": [
      "Ingresa las millas recorridas 12\n"
     ]
    },
    {
     "name": "stdout",
     "output_type": "stream",
     "text": [
      "Tu tarifa es de 7.0\n"
     ]
    }
   ],
   "source": [
    "# your code is here\n",
    "m = float(input('Ingresa las millas recorridas'))\n",
    "\n",
    "if m < 10:\n",
    "    tarifa = 5\n",
    "elif m < 20:\n",
    "    tarifa = 5 + (m - 10) * 1\n",
    "else:\n",
    "    tarifa = 5 + (m - 10) * 1.5\n",
    "    \n",
    "print('Tu tarifa es de',tarifa)"
   ]
  },
  {
   "cell_type": "markdown",
   "metadata": {
    "id": "ylesrgONGCbf"
   },
   "source": [
    "## Flash Shipping charges\n",
    "\n",
    "###Instruction: You are going to program a shipping charge calculator for a deliver company - Flash Shipping.\n",
    "\n",
    "The rate of delivery is as below\n",
    "\n",
    "| Weight of Package | Domestic Rate Per Pound | International Rate Per Pound |\n",
    "| --- | --- | --- |\n",
    "| 2 lbs or less | \\$1.5 | \\$5.0 |\n",
    "| More than 2 lbs but no more than 6 lbs | \\$2.5 | \\$7.0 |\n",
    "| Morethan 6 lbs but no more than 20 lbs | \\$3.5 | \\$10.0 |\n",
    "| More than 20 lbs | \\$5.0 | \\$15.0 |\n",
    "\n",
    "step1: Ask the user to enter the weight of the package, and the destination (domestic or international)\n",
    "\n",
    "step2: Calculate the shipping charge based on the rate\n",
    "\n",
    "step3: print the charge.\n"
   ]
  },
  {
   "cell_type": "code",
   "execution_count": 27,
   "metadata": {
    "id": "PntyPGzNHiYw"
   },
   "outputs": [
    {
     "name": "stdin",
     "output_type": "stream",
     "text": [
      "¿Tu destino es nacional o internacional? nacional\n",
      "¿Cuánto pesa tu paquete? 5\n"
     ]
    },
    {
     "name": "stdout",
     "output_type": "stream",
     "text": [
      "Tu tarifa es de 12.5\n"
     ]
    }
   ],
   "source": [
    "# your code is here\n",
    "destino = input('¿Tu destino es nacional o internacional?')\n",
    "peso = float(input('¿Cuánto pesa tu paquete?'))\n",
    "\n",
    "if destino == 'nacional':\n",
    "    if peso <= 2:\n",
    "        tarifa = peso * 1.5\n",
    "    elif peso <= 6:\n",
    "        tarifa = peso * 2.5\n",
    "    elif peso <= 20:\n",
    "        tarifa = peso * 3.5\n",
    "    else:\n",
    "        tarifa = peso * 5\n",
    "elif destino == 'internacional':\n",
    "    if peso <= 2:\n",
    "        tarifa = peso * 5\n",
    "    elif peso <= 6:\n",
    "        tarifa = peso * 7\n",
    "    elif peso <= 20:\n",
    "        tarifa = peso * 10\n",
    "    else:\n",
    "        tarifa = peso * 15\n",
    "else:\n",
    "    print('Ingresa los parámetros correctos')\n",
    "\n",
    "print('Tu tarifa es de',tarifa)"
   ]
  },
  {
   "cell_type": "markdown",
   "metadata": {
    "id": "7Ysdu7UJ_qf8"
   },
   "source": [
    "**Congratulations! You finished this Assignment and completed Module 3!**"
   ]
  }
 ],
 "metadata": {
  "colab": {
   "collapsed_sections": [],
   "provenance": [],
   "toc_visible": true
  },
  "kernelspec": {
   "display_name": "Python 3 (ipykernel)",
   "language": "python",
   "name": "python3"
  },
  "language_info": {
   "codemirror_mode": {
    "name": "ipython",
    "version": 3
   },
   "file_extension": ".py",
   "mimetype": "text/x-python",
   "name": "python",
   "nbconvert_exporter": "python",
   "pygments_lexer": "ipython3",
   "version": "3.11.0"
  }
 },
 "nbformat": 4,
 "nbformat_minor": 4
}
