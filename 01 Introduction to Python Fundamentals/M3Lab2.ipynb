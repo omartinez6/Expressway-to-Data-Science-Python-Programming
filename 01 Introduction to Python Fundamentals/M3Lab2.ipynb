{
 "cells": [
  {
   "cell_type": "markdown",
   "metadata": {
    "id": "cnAUJprJdh9_"
   },
   "source": [
    "# Welcome to our Lab Practice!"
   ]
  },
  {
   "cell_type": "markdown",
   "metadata": {
    "id": "vVYcayGedmms"
   },
   "source": [
    "This lab is about branching - if-else statements. Are you ready? Let's get started!"
   ]
  },
  {
   "cell_type": "markdown",
   "metadata": {
    "id": "JP8eGBVyeSQx"
   },
   "source": [
    "You will find some small tasks in sections below. "
   ]
  },
  {
   "cell_type": "markdown",
   "metadata": {
    "id": "EZ42d1Sue0Zp"
   },
   "source": [
    "###Task: Check if the weather is good for hiking. \n",
    "\n",
    "You should ask the user to enter a float value as the temporature in Fahrenheit. \n",
    "*   If the temporature is within [60, 80], print \"Perfect\"; \n",
    "*   otherwise, print \"Not that good\"."
   ]
  },
  {
   "cell_type": "code",
   "execution_count": null,
   "metadata": {
    "id": "yDzNIHsSeu85"
   },
   "outputs": [],
   "source": [
    "# type your code here"
   ]
  },
  {
   "cell_type": "markdown",
   "metadata": {
    "id": "u8WEYfEqIbWX"
   },
   "source": [
    "###Task: Check if the user feels happy\n",
    "\n",
    "You should ask the user \"Are you happy now?\". \n",
    "*   If the user enters \"Yes\", print \"Fantastic!\"\n",
    "*   otherwise, print \"How can I help?\""
   ]
  },
  {
   "cell_type": "code",
   "execution_count": null,
   "metadata": {
    "id": "LKSmcHRRJUYY"
   },
   "outputs": [],
   "source": [
    "# type your code here"
   ]
  },
  {
   "cell_type": "markdown",
   "metadata": {
    "id": "-__o8ovbfSEH"
   },
   "source": [
    "###Task: check if your plants need water \n",
    "\n",
    "You should ask the user to enter an integer indicating the level of moisture of the soil (from 1: super dry; to 10: super wet). \n",
    "\n",
    "*   If the level is below 3, print \"Yes, you should water your plants now\"\n",
    "*   otherwise, print \"No. Wait for the soil to be dryer\"."
   ]
  },
  {
   "cell_type": "code",
   "execution_count": null,
   "metadata": {
    "id": "hOpxhSKog18Y"
   },
   "outputs": [],
   "source": [
    "# your code will be here"
   ]
  },
  {
   "cell_type": "markdown",
   "metadata": {
    "id": "8fGRh5FviHXB"
   },
   "source": [
    "###Task: check if a student finished Lab2 \n",
    "\n",
    "At first, ask the user: \"Do you care about your learning outcome?\"\n",
    "\n",
    "*    If yes, ask the user \"Have your finished M3Lab2?\"\n",
    "**    if yes, print \"Good job!\"\n",
    "**    If no, print \"Get it done ASAP!!!!!!\"\n",
    "*    If no, then print \"As long as you are happy.\""
   ]
  },
  {
   "cell_type": "code",
   "execution_count": null,
   "metadata": {
    "id": "OSnp3ZYuiiUj"
   },
   "outputs": [],
   "source": [
    "# your code will be here"
   ]
  }
 ],
 "metadata": {
  "colab": {
   "authorship_tag": "ABX9TyPLP6W6t5WjyT3nMStVHXl7",
   "collapsed_sections": [],
   "name": "M3Lab2.ipynb",
   "provenance": [],
   "toc_visible": true
  },
  "kernelspec": {
   "display_name": "Python 3 (ipykernel)",
   "language": "python",
   "name": "python3"
  },
  "language_info": {
   "codemirror_mode": {
    "name": "ipython",
    "version": 3
   },
   "file_extension": ".py",
   "mimetype": "text/x-python",
   "name": "python",
   "nbconvert_exporter": "python",
   "pygments_lexer": "ipython3",
   "version": "3.11.0"
  }
 },
 "nbformat": 4,
 "nbformat_minor": 4
}
