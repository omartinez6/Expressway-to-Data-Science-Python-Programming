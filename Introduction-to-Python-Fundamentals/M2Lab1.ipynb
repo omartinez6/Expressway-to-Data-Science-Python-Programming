{
 "cells": [
  {
   "cell_type": "markdown",
   "metadata": {
    "id": "cnAUJprJdh9_"
   },
   "source": [
    "# Welcome to our Lab Practice!"
   ]
  },
  {
   "cell_type": "markdown",
   "metadata": {
    "id": "vVYcayGedmms"
   },
   "source": [
    "This lab is about variables, assignments, and their value and data types. Are you ready? Let's get started!"
   ]
  },
  {
   "cell_type": "markdown",
   "metadata": {
    "id": "JP8eGBVyeSQx"
   },
   "source": [
    "You will find some small tasks in sections below. "
   ]
  },
  {
   "cell_type": "markdown",
   "metadata": {
    "id": "TNbXeCDFeAcJ"
   },
   "source": [
    "## Value assignment"
   ]
  },
  {
   "cell_type": "markdown",
   "metadata": {
    "id": "EZ42d1Sue0Zp"
   },
   "source": [
    "###Task: assign **x** with an int 5. \n",
    "\n",
    "Use print() and type() to check the value is correctly assigned, and the data type is correct. For example: print('x:', x, type(x))"
   ]
  },
  {
   "cell_type": "code",
   "execution_count": 2,
   "metadata": {
    "id": "yDzNIHsSeu85",
    "tags": []
   },
   "outputs": [
    {
     "name": "stdout",
     "output_type": "stream",
     "text": [
      "x: 5 <class 'int'>\n"
     ]
    }
   ],
   "source": [
    "# type your code her\n",
    "x = 5\n",
    "print('x:',x,type(x))"
   ]
  },
  {
   "cell_type": "markdown",
   "metadata": {
    "id": "u8WEYfEqIbWX"
   },
   "source": [
    "###Task: assign **int_x** with x. \n",
    "\n",
    "Use print() and type() to check the value is correctly assigned, and the data type is correct."
   ]
  },
  {
   "cell_type": "code",
   "execution_count": 3,
   "metadata": {
    "id": "LKSmcHRRJUYY",
    "tags": []
   },
   "outputs": [
    {
     "name": "stdout",
     "output_type": "stream",
     "text": [
      "int_x: 5 <class 'int'>\n"
     ]
    }
   ],
   "source": [
    "# type your code here\n",
    "int_x = x\n",
    "print('int_x:',int_x,type(int_x))"
   ]
  },
  {
   "cell_type": "markdown",
   "metadata": {
    "id": "-__o8ovbfSEH"
   },
   "source": [
    "###Task: assign **x** with a float 5.0. \n",
    "\n",
    "Use print() and type() to check the value is correctly assigned, and the data type is correct."
   ]
  },
  {
   "cell_type": "code",
   "execution_count": 4,
   "metadata": {
    "id": "hOpxhSKog18Y",
    "tags": []
   },
   "outputs": [
    {
     "name": "stdout",
     "output_type": "stream",
     "text": [
      "x: 5.0 <class 'float'>\n"
     ]
    }
   ],
   "source": [
    "# your code will be here\n",
    "x = 5.0\n",
    "print('x:',x,type(x))"
   ]
  },
  {
   "cell_type": "markdown",
   "metadata": {
    "id": "uZYVZQIvIlPy"
   },
   "source": [
    "###Task: assign **float_x** with x. \n",
    "\n",
    "Use print() and type() to check the value is correctly assigned, and the data type is correct."
   ]
  },
  {
   "cell_type": "code",
   "execution_count": 5,
   "metadata": {
    "id": "Y_3dcyvcQ2GI",
    "tags": []
   },
   "outputs": [
    {
     "name": "stdout",
     "output_type": "stream",
     "text": [
      "float_x: 5.0 <class 'float'>\n"
     ]
    }
   ],
   "source": [
    "# your code will be here\n",
    "float_x = x\n",
    "print('float_x:',float_x,type(float_x))"
   ]
  },
  {
   "cell_type": "markdown",
   "metadata": {
    "id": "NpCNxK68gpME"
   },
   "source": [
    "###Task: assign **x** with a str '5'. \n",
    "\n",
    "Use print() and type() to check the value is correctly assigned, and the data type is correct."
   ]
  },
  {
   "cell_type": "code",
   "execution_count": 6,
   "metadata": {
    "id": "txg-7uKfgKeW",
    "tags": []
   },
   "outputs": [
    {
     "name": "stdout",
     "output_type": "stream",
     "text": [
      "x: 5 <class 'str'>\n"
     ]
    }
   ],
   "source": [
    "# your code will be here\n",
    "x = '5'\n",
    "print('x:',x,type(x))"
   ]
  },
  {
   "cell_type": "markdown",
   "metadata": {
    "id": "Viln-qF5Irq4"
   },
   "source": [
    "###Task: assign **str1_x** with x. \n",
    "\n",
    "Use print() and type() to check the value is correctly assigned, and the data type is correct."
   ]
  },
  {
   "cell_type": "code",
   "execution_count": 8,
   "metadata": {
    "id": "EGFHzwI3QzqH",
    "tags": []
   },
   "outputs": [
    {
     "name": "stdout",
     "output_type": "stream",
     "text": [
      "str1_x: 5 <class 'str'>\n"
     ]
    }
   ],
   "source": [
    "# your code will be here\n",
    "str1_x = x\n",
    "print('str1_x:',str1_x,type(str1_x))"
   ]
  },
  {
   "cell_type": "markdown",
   "metadata": {
    "id": "e0YP4pWzIQy0"
   },
   "source": [
    "###Task: assign **x** with a str '5.0'. \n",
    "\n",
    "Use print() and type() to check the value is correctly assigned, and the data type is correct."
   ]
  },
  {
   "cell_type": "code",
   "execution_count": 9,
   "metadata": {
    "id": "i5oNpnSiIPtD",
    "tags": []
   },
   "outputs": [
    {
     "name": "stdout",
     "output_type": "stream",
     "text": [
      "x: 5.0 <class 'str'>\n"
     ]
    }
   ],
   "source": [
    "# your code will be here\n",
    "x = '5.0'\n",
    "print('x:',x,type(x))"
   ]
  },
  {
   "cell_type": "markdown",
   "metadata": {
    "id": "9EwSZrKrIvat"
   },
   "source": [
    "###Task: assign **str2_x** with x. \n",
    "\n",
    "Use print() and type() to check the value is correctly assigned, and the data type is correct."
   ]
  },
  {
   "cell_type": "code",
   "execution_count": 11,
   "metadata": {
    "id": "fobTAXmGJmV0",
    "tags": []
   },
   "outputs": [
    {
     "name": "stdout",
     "output_type": "stream",
     "text": [
      "str2_x: 5.0 <class 'str'>\n"
     ]
    }
   ],
   "source": [
    "# your code will be here\n",
    "str2_x = x\n",
    "print('str2_x:',str2_x,type(str2_x))"
   ]
  },
  {
   "cell_type": "markdown",
   "metadata": {
    "id": "4xBE9LqXJpow"
   },
   "source": [
    "###Task: check all variables.\n",
    "\n",
    "Use print() and type() to check all the variables you created so far: **x, int_x, float_x, str1_x, str2_x** value and data types."
   ]
  },
  {
   "cell_type": "code",
   "execution_count": 15,
   "metadata": {
    "id": "gDFtlm4lJopJ",
    "tags": []
   },
   "outputs": [
    {
     "name": "stdout",
     "output_type": "stream",
     "text": [
      "x: 5.0 <class 'str'>\n",
      "int_x: 5 <class 'int'>\n",
      "float_x: 5.0 <class 'float'>\n",
      "str1_x: 5 <class 'str'>\n",
      "str2_x: 5.0 <class 'str'>\n"
     ]
    }
   ],
   "source": [
    "# your code will be here\n",
    "print('x:',x,type(x))\n",
    "print('int_x:',int_x,type(int_x))\n",
    "print('float_x:',float_x,type(float_x))\n",
    "print('str1_x:',str1_x,type(str1_x))\n",
    "print('str2_x:',str2_x,type(str2_x))"
   ]
  },
  {
   "cell_type": "markdown",
   "metadata": {
    "id": "D8pWdoN7d6Dy"
   },
   "source": [
    "## Value converting\n",
    "\n",
    "For the task below, convert data value from one type to another, assign it to x, and use print() and type() to check for correctness."
   ]
  },
  {
   "cell_type": "markdown",
   "metadata": {
    "id": "rXgbUIBRgQoG"
   },
   "source": [
    "###Task: convert a str '0' to int"
   ]
  },
  {
   "cell_type": "code",
   "execution_count": 16,
   "metadata": {
    "id": "oIKwmW2mfe3d",
    "tags": []
   },
   "outputs": [
    {
     "name": "stdout",
     "output_type": "stream",
     "text": [
      "y: 0 <class 'str'>\n",
      "x: 0 <class 'int'>\n"
     ]
    }
   ],
   "source": [
    "# your code will be here\n",
    "y = '0'\n",
    "x = int(y)\n",
    "print('y:',y,type(y))\n",
    "print('x:',x,type(x))"
   ]
  },
  {
   "cell_type": "markdown",
   "metadata": {
    "id": "aUD7waGAM-au"
   },
   "source": [
    "###Task: convert a float 0.1 to int"
   ]
  },
  {
   "cell_type": "code",
   "execution_count": 17,
   "metadata": {
    "id": "lHsYgPViNBre",
    "tags": []
   },
   "outputs": [
    {
     "name": "stdout",
     "output_type": "stream",
     "text": [
      "y: 0.1 <class 'float'>\n",
      "x: 0 <class 'int'>\n"
     ]
    }
   ],
   "source": [
    "# your code will be here\n",
    "y = 0.1\n",
    "x = int(y)\n",
    "print('y:',y,type(y))\n",
    "print('x:',x,type(x))"
   ]
  },
  {
   "cell_type": "markdown",
   "metadata": {
    "id": "QPoCScdkheK3"
   },
   "source": [
    "###Task: convert a str '0' to float"
   ]
  },
  {
   "cell_type": "code",
   "execution_count": 18,
   "metadata": {
    "id": "tsFowDAKhJCB",
    "tags": []
   },
   "outputs": [
    {
     "name": "stdout",
     "output_type": "stream",
     "text": [
      "y: 0 <class 'str'>\n",
      "x: 0.0 <class 'float'>\n"
     ]
    }
   ],
   "source": [
    "# your code will be here\n",
    "y = '0'\n",
    "x = float(y)\n",
    "print('y:',y,type(y))\n",
    "print('x:',x,type(x))"
   ]
  },
  {
   "cell_type": "markdown",
   "metadata": {
    "id": "TE6Df1WYhu10"
   },
   "source": [
    "###Task: convert an int 0 to float"
   ]
  },
  {
   "cell_type": "code",
   "execution_count": 20,
   "metadata": {
    "id": "MSjQbhNXhJVV",
    "tags": []
   },
   "outputs": [
    {
     "name": "stdout",
     "output_type": "stream",
     "text": [
      "y: 0 <class 'int'>\n",
      "x: 0.0 <class 'float'>\n"
     ]
    }
   ],
   "source": [
    "# your code will be here\n",
    "y = 0\n",
    "x = float(y)\n",
    "print('y:',y,type(y))\n",
    "print('x:',x,type(x))"
   ]
  },
  {
   "cell_type": "markdown",
   "metadata": {
    "id": "f-zusksziv_N"
   },
   "source": [
    "###Task: convert an int 0 to str"
   ]
  },
  {
   "cell_type": "code",
   "execution_count": 21,
   "metadata": {
    "id": "rVF4T_pwhKMM",
    "tags": []
   },
   "outputs": [
    {
     "name": "stdout",
     "output_type": "stream",
     "text": [
      "y: 0 <class 'int'>\n",
      "x: 0 <class 'str'>\n"
     ]
    }
   ],
   "source": [
    "# your code will be here\n",
    "y = 0\n",
    "x = str(y)\n",
    "print('y:',y,type(y))\n",
    "print('x:',x,type(x))"
   ]
  },
  {
   "cell_type": "markdown",
   "metadata": {
    "id": "yls-7KE6kA7o"
   },
   "source": [
    "###Task: convert a float 0.1 to str"
   ]
  },
  {
   "cell_type": "code",
   "execution_count": 22,
   "metadata": {
    "id": "ZZ1XEd29kAIR",
    "tags": []
   },
   "outputs": [
    {
     "name": "stdout",
     "output_type": "stream",
     "text": [
      "y: 0.1 <class 'float'>\n",
      "x: 0.1 <class 'str'>\n"
     ]
    }
   ],
   "source": [
    "# your code will be here\n",
    "y = 0.1\n",
    "x = str(y)\n",
    "print('y:',y,type(y))\n",
    "print('x:',x,type(x))"
   ]
  }
 ],
 "metadata": {
  "colab": {
   "authorship_tag": "ABX9TyPsO1fM1ZZwKnqXji/5FBrg",
   "collapsed_sections": [],
   "name": "M2Lab1.ipynb",
   "provenance": [],
   "toc_visible": true
  },
  "kernelspec": {
   "display_name": "Python 3 (ipykernel)",
   "language": "python",
   "name": "python3"
  },
  "language_info": {
   "codemirror_mode": {
    "name": "ipython",
    "version": 3
   },
   "file_extension": ".py",
   "mimetype": "text/x-python",
   "name": "python",
   "nbconvert_exporter": "python",
   "pygments_lexer": "ipython3",
   "version": "3.11.0"
  }
 },
 "nbformat": 4,
 "nbformat_minor": 4
}
