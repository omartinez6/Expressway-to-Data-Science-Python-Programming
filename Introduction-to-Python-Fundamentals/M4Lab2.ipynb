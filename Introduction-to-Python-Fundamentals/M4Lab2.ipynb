{
 "cells": [
  {
   "cell_type": "markdown",
   "metadata": {
    "id": "cnAUJprJdh9_"
   },
   "source": [
    "# Welcome to our Lab Practice!"
   ]
  },
  {
   "cell_type": "markdown",
   "metadata": {
    "id": "vVYcayGedmms"
   },
   "source": [
    "This lab is about repetition - for loops. Are you ready? Let's get started!"
   ]
  },
  {
   "cell_type": "markdown",
   "metadata": {
    "id": "JP8eGBVyeSQx"
   },
   "source": [
    "You will find some small tasks in sections below. "
   ]
  },
  {
   "cell_type": "markdown",
   "metadata": {
    "id": "dgugXiakzLOB"
   },
   "source": [
    "###Task: Print all even numbers within 20"
   ]
  },
  {
   "cell_type": "code",
   "execution_count": 6,
   "metadata": {
    "id": "KGdX6n3ZzRtb"
   },
   "outputs": [
    {
     "name": "stdout",
     "output_type": "stream",
     "text": [
      "0\n",
      "2\n",
      "4\n",
      "6\n",
      "8\n",
      "10\n",
      "12\n",
      "14\n",
      "16\n",
      "18\n",
      "20\n"
     ]
    }
   ],
   "source": [
    "# type your code here\n",
    "for x in range(0,21,2):\n",
    "    print(x)"
   ]
  },
  {
   "cell_type": "markdown",
   "metadata": {
    "id": "qnE0ig4zzWGU"
   },
   "source": [
    "### Task: Print all numbers dividble by 5 within 100"
   ]
  },
  {
   "cell_type": "code",
   "execution_count": 5,
   "metadata": {
    "id": "pzHVe6FFzfH_"
   },
   "outputs": [
    {
     "name": "stdout",
     "output_type": "stream",
     "text": [
      "0\n",
      "5\n",
      "10\n",
      "15\n",
      "20\n",
      "25\n",
      "30\n",
      "35\n",
      "40\n",
      "45\n",
      "50\n",
      "55\n",
      "60\n",
      "65\n",
      "70\n",
      "75\n",
      "80\n",
      "85\n",
      "90\n",
      "95\n",
      "100\n"
     ]
    }
   ],
   "source": [
    "# type your code here\n",
    "for x in range(0,101,5):\n",
    "    print(x)"
   ]
  },
  {
   "cell_type": "markdown",
   "metadata": {
    "id": "EZ42d1Sue0Zp"
   },
   "source": [
    "###Task: Print all integers from -5 to 5. \n"
   ]
  },
  {
   "cell_type": "code",
   "execution_count": 8,
   "metadata": {
    "id": "yDzNIHsSeu85"
   },
   "outputs": [
    {
     "name": "stdout",
     "output_type": "stream",
     "text": [
      "-5\n",
      "-4\n",
      "-3\n",
      "-2\n",
      "-1\n",
      "0\n",
      "1\n",
      "2\n",
      "3\n",
      "4\n",
      "5\n"
     ]
    }
   ],
   "source": [
    "# type your code here\n",
    "for x in range (-5,6,1):\n",
    "    print(x)"
   ]
  },
  {
   "cell_type": "markdown",
   "metadata": {
    "id": "u8WEYfEqIbWX"
   },
   "source": [
    "###Task: Print all integers of an interval given by the user\n",
    "\n",
    "Ask the user to enter two integers and print all integers between (including) them."
   ]
  },
  {
   "cell_type": "code",
   "execution_count": 10,
   "metadata": {
    "id": "LKSmcHRRJUYY"
   },
   "outputs": [
    {
     "name": "stdin",
     "output_type": "stream",
     "text": [
      "Ingresa el límite inferior: 85\n",
      "Ingresa el límite superior 6958\n"
     ]
    },
    {
     "name": "stdout",
     "output_type": "stream",
     "text": [
      "85\n",
      "141\n",
      "197\n",
      "253\n",
      "309\n",
      "365\n",
      "421\n",
      "477\n",
      "533\n",
      "589\n",
      "645\n",
      "701\n",
      "757\n",
      "813\n",
      "869\n",
      "925\n",
      "981\n",
      "1037\n",
      "1093\n",
      "1149\n",
      "1205\n",
      "1261\n",
      "1317\n",
      "1373\n",
      "1429\n",
      "1485\n",
      "1541\n",
      "1597\n",
      "1653\n",
      "1709\n",
      "1765\n",
      "1821\n",
      "1877\n",
      "1933\n",
      "1989\n",
      "2045\n",
      "2101\n",
      "2157\n",
      "2213\n",
      "2269\n",
      "2325\n",
      "2381\n",
      "2437\n",
      "2493\n",
      "2549\n",
      "2605\n",
      "2661\n",
      "2717\n",
      "2773\n",
      "2829\n",
      "2885\n",
      "2941\n",
      "2997\n",
      "3053\n",
      "3109\n",
      "3165\n",
      "3221\n",
      "3277\n",
      "3333\n",
      "3389\n",
      "3445\n",
      "3501\n",
      "3557\n",
      "3613\n",
      "3669\n",
      "3725\n",
      "3781\n",
      "3837\n",
      "3893\n",
      "3949\n",
      "4005\n",
      "4061\n",
      "4117\n",
      "4173\n",
      "4229\n",
      "4285\n",
      "4341\n",
      "4397\n",
      "4453\n",
      "4509\n",
      "4565\n",
      "4621\n",
      "4677\n",
      "4733\n",
      "4789\n",
      "4845\n",
      "4901\n",
      "4957\n",
      "5013\n",
      "5069\n",
      "5125\n",
      "5181\n",
      "5237\n",
      "5293\n",
      "5349\n",
      "5405\n",
      "5461\n",
      "5517\n",
      "5573\n",
      "5629\n",
      "5685\n",
      "5741\n",
      "5797\n",
      "5853\n",
      "5909\n",
      "5965\n",
      "6021\n",
      "6077\n",
      "6133\n",
      "6189\n",
      "6245\n",
      "6301\n",
      "6357\n",
      "6413\n",
      "6469\n",
      "6525\n",
      "6581\n",
      "6637\n",
      "6693\n",
      "6749\n",
      "6805\n",
      "6861\n",
      "6917\n"
     ]
    }
   ],
   "source": [
    "# type your code here\n",
    "x = int(input('Ingresa el límite inferior:'))\n",
    "y = int(input('Ingresa el límite superior'))\n",
    "\n",
    "for x in range(x,y+1,56):\n",
    "    print(x)"
   ]
  },
  {
   "cell_type": "code",
   "execution_count": null,
   "metadata": {},
   "outputs": [],
   "source": []
  }
 ],
 "metadata": {
  "colab": {
   "authorship_tag": "ABX9TyNNvycYbtxlAmVPvKFXLHCy",
   "collapsed_sections": [],
   "name": "M4Lab2.ipynb",
   "provenance": [],
   "toc_visible": true
  },
  "kernelspec": {
   "display_name": "Python 3 (ipykernel)",
   "language": "python",
   "name": "python3"
  },
  "language_info": {
   "codemirror_mode": {
    "name": "ipython",
    "version": 3
   },
   "file_extension": ".py",
   "mimetype": "text/x-python",
   "name": "python",
   "nbconvert_exporter": "python",
   "pygments_lexer": "ipython3",
   "version": "3.11.0"
  }
 },
 "nbformat": 4,
 "nbformat_minor": 4
}
