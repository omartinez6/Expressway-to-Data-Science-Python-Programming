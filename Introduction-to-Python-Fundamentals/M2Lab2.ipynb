{
 "cells": [
  {
   "cell_type": "markdown",
   "metadata": {
    "id": "cnAUJprJdh9_"
   },
   "source": [
    "# Welcome to our Lab Practice!"
   ]
  },
  {
   "cell_type": "markdown",
   "metadata": {
    "id": "vVYcayGedmms"
   },
   "source": [
    "This lab is about arithmetic operations, more assignemnt operations from input(). Are you ready? Let's get started!"
   ]
  },
  {
   "cell_type": "markdown",
   "metadata": {
    "id": "JP8eGBVyeSQx"
   },
   "source": [
    "You will find some small tasks in sections below. "
   ]
  },
  {
   "cell_type": "markdown",
   "metadata": {
    "id": "TNbXeCDFeAcJ"
   },
   "source": [
    "## Arithmetic Operation\n",
    "\n",
    "In this section, you are going to code and run arithmetic operations of two numbers.\n",
    "\n",
    "Hint: to print out the equation, we can use the print() to print multiple values out. \n",
    "\n",
    "For example, print(x, 'operator', y, '=', x operator y) for an operator."
   ]
  },
  {
   "cell_type": "markdown",
   "metadata": {
    "id": "hhAeaPrjTLRT"
   },
   "source": [
    "###Task: Get some computation.\n",
    "\n",
    "1.   Assign x with 2, y with 3.\n",
    "2.   print out the equation and result of\n",
    "  1.   x + y\n",
    "  2.   x - y\n",
    "  3.   x * y\n",
    "  4.   x / y\n",
    "  5.   x // y\n",
    "  6.   x ** y\n",
    "  7.   x % y\n",
    "\n",
    "\n",
    "\n"
   ]
  },
  {
   "cell_type": "code",
   "execution_count": 2,
   "metadata": {
    "id": "v4jLx-_gTIFA",
    "tags": []
   },
   "outputs": [
    {
     "name": "stdout",
     "output_type": "stream",
     "text": [
      "2 + 3 = 5\n",
      "2 - 3 = -1\n",
      "2 * 3 = 6\n",
      "2 / 3 = 0.6666666666666666\n",
      "2 // 3 = 0\n",
      "2 ** 3 = 8\n",
      "2 % 3 = 2\n"
     ]
    }
   ],
   "source": [
    "# type your code here\n",
    "x = 2\n",
    "y = 3\n",
    "\n",
    "print(x,'+',y,'=',x+y)\n",
    "print(x,'-',y,'=',x-y)\n",
    "print(x,'*',y,'=',x*y)\n",
    "print(x,'/',y,'=',x/y)\n",
    "print(x,'//',y,'=',x//y)\n",
    "print(x,'**',y,'=',x**y)\n",
    "print(x,'%',y,'=',x%y)"
   ]
  },
  {
   "cell_type": "markdown",
   "metadata": {
    "id": "TEHPJ_CpUuOv"
   },
   "source": [
    "###Task: Get some other computation.\n",
    "\n",
    "1.   Assign x with a value you like, y with another value you like.\n",
    "2.   print out the equation and result of\n",
    "  1.   x + y\n",
    "  2.   x - y\n",
    "  3.   x * y\n",
    "  4.   x / y\n",
    "  5.   x // y\n",
    "  6.   x ** y\n",
    "  7.   x % y\n",
    "3.   Are there some value that will crash your program? Why?"
   ]
  },
  {
   "cell_type": "code",
   "execution_count": 3,
   "metadata": {
    "id": "e4UI_UJpU-7q",
    "tags": []
   },
   "outputs": [
    {
     "name": "stdout",
     "output_type": "stream",
     "text": [
      "462 + 5.26 = 467.26\n",
      "462 - 5.26 = 456.74\n",
      "462 * 5.26 = 2430.12\n",
      "462 / 5.26 = 87.83269961977187\n",
      "462 // 5.26 = 87.0\n",
      "462 ** 5.26 = 103756853126577.67\n",
      "462 % 5.26 = 4.3800000000000185\n"
     ]
    }
   ],
   "source": [
    "# type your code here\n",
    "x = 462\n",
    "y = 5.26\n",
    "\n",
    "print(x,'+',y,'=',x+y)\n",
    "print(x,'-',y,'=',x-y)\n",
    "print(x,'*',y,'=',x*y)\n",
    "print(x,'/',y,'=',x/y)\n",
    "print(x,'//',y,'=',x//y)\n",
    "print(x,'**',y,'=',x**y)\n",
    "print(x,'%',y,'=',x%y)"
   ]
  },
  {
   "cell_type": "markdown",
   "metadata": {
    "id": "D8pWdoN7d6Dy"
   },
   "source": [
    "## Get Inputs from Users"
   ]
  },
  {
   "cell_type": "markdown",
   "metadata": {
    "id": "EZ42d1Sue0Zp"
   },
   "source": [
    "###Task: Help the User\n",
    "\n",
    "1.   Ask the user to enter an integer, convert and assign it to x;\n",
    "2.   Ask the user to enter another integer, convert and assign it to y;\n",
    "3.   print out the equation and result of\n",
    "  1.   x + y\n",
    "  2.   x - y\n",
    "  3.   x * y\n",
    "  4.   x / y\n",
    "  5.   x // y\n",
    "  6.   x ** y\n",
    "  7.   x % y\n",
    "3.   Are there some value that will crash your program? Why?\n"
   ]
  },
  {
   "cell_type": "code",
   "execution_count": 4,
   "metadata": {
    "id": "yDzNIHsSeu85"
   },
   "outputs": [
    {
     "name": "stdin",
     "output_type": "stream",
     "text": [
      "Introduce un número: 2\n",
      "Introduce otro número: 3\n"
     ]
    },
    {
     "name": "stdout",
     "output_type": "stream",
     "text": [
      "2 + 3 = 5\n",
      "2 - 3 = -1\n",
      "2 * 3 = 6\n",
      "2 / 3 = 0.6666666666666666\n",
      "2 // 3 = 0\n",
      "2 ** 3 = 8\n",
      "2 % 3 = 2\n"
     ]
    }
   ],
   "source": [
    "# type your code here\n",
    "x = int(input('Introduce un número:'))\n",
    "y = int(input('Introduce otro número:'))\n",
    "\n",
    "print(x,'+',y,'=',x+y)\n",
    "print(x,'-',y,'=',x-y)\n",
    "print(x,'*',y,'=',x*y)\n",
    "print(x,'/',y,'=',x/y)\n",
    "print(x,'//',y,'=',x//y)\n",
    "print(x,'**',y,'=',x**y)\n",
    "print(x,'%',y,'=',x%y)"
   ]
  },
  {
   "cell_type": "code",
   "execution_count": null,
   "metadata": {},
   "outputs": [],
   "source": []
  }
 ],
 "metadata": {
  "colab": {
   "authorship_tag": "ABX9TyOXe+qZYXYVhnqVfwDSkMUc",
   "collapsed_sections": [],
   "name": "M2Lab2.ipynb",
   "provenance": [],
   "toc_visible": true
  },
  "kernelspec": {
   "display_name": "Python 3 (ipykernel)",
   "language": "python",
   "name": "python3"
  },
  "language_info": {
   "codemirror_mode": {
    "name": "ipython",
    "version": 3
   },
   "file_extension": ".py",
   "mimetype": "text/x-python",
   "name": "python",
   "nbconvert_exporter": "python",
   "pygments_lexer": "ipython3",
   "version": "3.11.0"
  }
 },
 "nbformat": 4,
 "nbformat_minor": 4
}
