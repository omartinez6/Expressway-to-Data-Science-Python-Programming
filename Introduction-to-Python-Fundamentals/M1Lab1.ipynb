{
 "cells": [
  {
   "cell_type": "markdown",
   "metadata": {
    "id": "cnAUJprJdh9_"
   },
   "source": [
    "# Welcome to our first Lab Practice!"
   ]
  },
  {
   "cell_type": "markdown",
   "metadata": {
    "id": "vVYcayGedmms"
   },
   "source": [
    "This lab is all about print() and we are going to print various messages on the screen. Are you ready? Let's get started!"
   ]
  },
  {
   "cell_type": "markdown",
   "metadata": {
    "id": "JP8eGBVyeSQx"
   },
   "source": [
    "You will find some small tasks in sections below. You should use print() and a proper choice of quotation marks to print the **message** on the screen."
   ]
  },
  {
   "cell_type": "markdown",
   "metadata": {
    "id": "TNbXeCDFeAcJ"
   },
   "source": [
    "## Single quotations ' '"
   ]
  },
  {
   "cell_type": "markdown",
   "metadata": {
    "id": "EZ42d1Sue0Zp"
   },
   "source": [
    "###Task: print message **Hello, world!**"
   ]
  },
  {
   "cell_type": "code",
   "execution_count": 1,
   "metadata": {
    "id": "yDzNIHsSeu85",
    "tags": []
   },
   "outputs": [
    {
     "name": "stdout",
     "output_type": "stream",
     "text": [
      "Hello, world!\n"
     ]
    }
   ],
   "source": [
    "# type your code here\n",
    "print('Hello, world!')"
   ]
  },
  {
   "cell_type": "markdown",
   "metadata": {
    "id": "-__o8ovbfSEH"
   },
   "source": [
    "###Task: print message **\"Hello, world!\"**\n",
    "\n",
    "Note: the **\" \"** is part of the message and it should be included in the message printed out."
   ]
  },
  {
   "cell_type": "code",
   "execution_count": 3,
   "metadata": {
    "id": "hOpxhSKog18Y",
    "tags": []
   },
   "outputs": [
    {
     "name": "stdout",
     "output_type": "stream",
     "text": [
      "\"Hello, world!\"\n"
     ]
    }
   ],
   "source": [
    "# your code will be here\n",
    "print('\"Hello, world!\"')"
   ]
  },
  {
   "cell_type": "markdown",
   "metadata": {
    "id": "NpCNxK68gpME"
   },
   "source": [
    "###Task: print message **\"How are you?\"**\n",
    "\n",
    "Note: the **\" \"** is part of the message and it should be included in the message printed out."
   ]
  },
  {
   "cell_type": "code",
   "execution_count": 5,
   "metadata": {
    "id": "txg-7uKfgKeW",
    "tags": []
   },
   "outputs": [
    {
     "name": "stdout",
     "output_type": "stream",
     "text": [
      "\"How are you?\"\n"
     ]
    }
   ],
   "source": [
    "# your code will be here\n",
    "print('\"How are you?\"')"
   ]
  },
  {
   "cell_type": "markdown",
   "metadata": {
    "id": "D8pWdoN7d6Dy"
   },
   "source": [
    "## Double quotations \" \""
   ]
  },
  {
   "cell_type": "markdown",
   "metadata": {
    "id": "rXgbUIBRgQoG"
   },
   "source": [
    "###Task: print message **Hello, world!** (using \" \")"
   ]
  },
  {
   "cell_type": "code",
   "execution_count": 6,
   "metadata": {
    "id": "oIKwmW2mfe3d",
    "tags": []
   },
   "outputs": [
    {
     "name": "stdout",
     "output_type": "stream",
     "text": [
      "Hello, world!\n"
     ]
    }
   ],
   "source": [
    "# your code will be here\n",
    "print(\"Hello, world!\")"
   ]
  },
  {
   "cell_type": "markdown",
   "metadata": {
    "id": "QPoCScdkheK3"
   },
   "source": [
    "###Task: print message **I'm fine.**"
   ]
  },
  {
   "cell_type": "code",
   "execution_count": 7,
   "metadata": {
    "id": "tsFowDAKhJCB",
    "tags": []
   },
   "outputs": [
    {
     "name": "stdout",
     "output_type": "stream",
     "text": [
      "I'm fine.\n"
     ]
    }
   ],
   "source": [
    "# your code will be here\n",
    "print(\"I'm fine.\")"
   ]
  },
  {
   "cell_type": "markdown",
   "metadata": {
    "id": "TE6Df1WYhu10"
   },
   "source": [
    "###Task: print message **It's a great day!**"
   ]
  },
  {
   "cell_type": "code",
   "execution_count": 8,
   "metadata": {
    "id": "MSjQbhNXhJVV",
    "tags": []
   },
   "outputs": [
    {
     "name": "stdout",
     "output_type": "stream",
     "text": [
      "It's a great day!\n"
     ]
    }
   ],
   "source": [
    "# your code will be here\n",
    "print(\"It's a great day!\")"
   ]
  },
  {
   "cell_type": "markdown",
   "metadata": {
    "id": "0dZCPuYjeDqi"
   },
   "source": [
    "## Triple quotations ''' '''"
   ]
  },
  {
   "cell_type": "markdown",
   "metadata": {
    "id": "f-zusksziv_N"
   },
   "source": [
    "###Task: print the poem below\n",
    "\n",
    "**This**\n",
    "\n",
    "**is**\n",
    "\n",
    "**a**\n",
    "\n",
    "**poem**"
   ]
  },
  {
   "cell_type": "code",
   "execution_count": 9,
   "metadata": {
    "id": "rVF4T_pwhKMM",
    "tags": []
   },
   "outputs": [
    {
     "name": "stdout",
     "output_type": "stream",
     "text": [
      "\n",
      "This\n",
      "is\n",
      "a\n",
      "poem\n",
      "\n"
     ]
    }
   ],
   "source": [
    "# your code will be here\n",
    "print('''\n",
    "This\n",
    "is\n",
    "a\n",
    "poem\n",
    "''')"
   ]
  },
  {
   "cell_type": "markdown",
   "metadata": {
    "id": "yls-7KE6kA7o"
   },
   "source": [
    "###Task: print the paragraph below\n",
    "\n",
    "**This is a multi-line**\n",
    "\n",
    "**documentary. It consists**\n",
    "\n",
    "**several sentences and**\n",
    "\n",
    "**might be pages long.**"
   ]
  },
  {
   "cell_type": "code",
   "execution_count": 10,
   "metadata": {
    "id": "ZZ1XEd29kAIR",
    "tags": []
   },
   "outputs": [
    {
     "name": "stdout",
     "output_type": "stream",
     "text": [
      "\n",
      "This is a multi-line\n",
      "documentary. It consists\n",
      "several sentences and\n",
      "might be pages long.\n",
      "\n"
     ]
    }
   ],
   "source": [
    "# your code will be here\n",
    "print('''\n",
    "This is a multi-line\n",
    "documentary. It consists\n",
    "several sentences and\n",
    "might be pages long.\n",
    "''')"
   ]
  },
  {
   "cell_type": "markdown",
   "metadata": {
    "id": "DsOakqGCeK7V"
   },
   "source": [
    "## Combinations of quotations"
   ]
  },
  {
   "cell_type": "markdown",
   "metadata": {
    "id": "4iCITSR6h7Yv"
   },
   "source": [
    "###Task: print the dialog below\n",
    "\n",
    "**\"How are you?\"**\n",
    "\n",
    "**\"I'm fine.\"**\n",
    "\n",
    "**\"It's a great day!\"**"
   ]
  },
  {
   "cell_type": "code",
   "execution_count": 11,
   "metadata": {
    "id": "EKsuK9O6jW7D",
    "tags": []
   },
   "outputs": [
    {
     "name": "stdout",
     "output_type": "stream",
     "text": [
      "\n",
      "\"How are you?\"\n",
      "\"I'm fine.\"\n",
      "\"It's a great day!\"\n",
      "\n"
     ]
    }
   ],
   "source": [
    "# your code will be here\n",
    "print('''\n",
    "\"How are you?\"\n",
    "\"I'm fine.\"\n",
    "\"It's a great day!\"\n",
    "''')"
   ]
  }
 ],
 "metadata": {
  "colab": {
   "authorship_tag": "ABX9TyNuXMjJ/SX7/f8q1q1cVTsN",
   "name": "M1Lab1.ipynb",
   "provenance": [],
   "toc_visible": true
  },
  "kernelspec": {
   "display_name": "Python 3 (ipykernel)",
   "language": "python",
   "name": "python3"
  },
  "language_info": {
   "codemirror_mode": {
    "name": "ipython",
    "version": 3
   },
   "file_extension": ".py",
   "mimetype": "text/x-python",
   "name": "python",
   "nbconvert_exporter": "python",
   "pygments_lexer": "ipython3",
   "version": "3.11.0"
  }
 },
 "nbformat": 4,
 "nbformat_minor": 4
}
