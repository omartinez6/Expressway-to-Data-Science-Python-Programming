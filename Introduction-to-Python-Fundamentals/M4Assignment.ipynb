{
 "cells": [
  {
   "cell_type": "markdown",
   "metadata": {
    "id": "cnAUJprJdh9_"
   },
   "source": [
    "# Welcome to our last assignment!"
   ]
  },
  {
   "cell_type": "markdown",
   "metadata": {
    "id": "vVYcayGedmms"
   },
   "source": [
    "This assignment is about testing your understanding of flow control: repetition.\n",
    "\n",
    "We are going to create some simple programs using these tools. Are you ready? Let's get started!"
   ]
  },
  {
   "cell_type": "markdown",
   "metadata": {
    "id": "JP8eGBVyeSQx"
   },
   "source": [
    "You will find some small tasks in sections below. You should use input() to get the user to enter the information and use print() to print the information on the screen. At this moment, we can assume users will follow instructions carefully - they will enter the valid inputs as required."
   ]
  },
  {
   "cell_type": "markdown",
   "metadata": {
    "id": "TNbXeCDFeAcJ"
   },
   "source": [
    "## Prime Numbers\n",
    "\n",
    "### Instruction:\n",
    "\n",
    "Step 1: Ask the user to enter an integer\n",
    "\n",
    "Step 2: find and print all prime numbers up to the integer."
   ]
  },
  {
   "cell_type": "code",
   "execution_count": null,
   "metadata": {
    "id": "x6IbZ6rFw76O"
   },
   "outputs": [],
   "source": [
    "# your code is here"
   ]
  },
  {
   "cell_type": "markdown",
   "metadata": {
    "id": "fZfiqg5lxFKF"
   },
   "source": [
    "## Binary Converter\n",
    "\n",
    "###Instruction: You are going to program a decimal to binary converter.\n",
    "\n",
    "step1: Ask the user to enter a positive decimal integer.\n",
    "\n",
    "step2: Calculate the binary representation of the integer by keep dividing until the reminder is less than 2, keep record of all the reminders.\n",
    "\n",
    "step3: Print reminders as the binary representation."
   ]
  },
  {
   "cell_type": "code",
   "execution_count": null,
   "metadata": {
    "id": "2bODNGPSx1-m"
   },
   "outputs": [],
   "source": [
    "# your code is here"
   ]
  },
  {
   "cell_type": "markdown",
   "metadata": {
    "id": "cZmW-HnwyHcI"
   },
   "source": [
    "## A Simple Grade Book\n",
    "\n",
    "###Instruction: You are going to program a simple grade book.\n",
    "\n",
    "step1: Ask the user to enter the number of students in a class\n",
    "\n",
    "step2: Ask the user to enter the grade (in a 0-100 scale) of each student  \n",
    "\n",
    "step3: Calculate and print the average, min, and max grade of the class."
   ]
  },
  {
   "cell_type": "code",
   "execution_count": null,
   "metadata": {
    "id": "wk6FHvAvyr_G"
   },
   "outputs": [],
   "source": [
    "# your code is here"
   ]
  },
  {
   "cell_type": "markdown",
   "metadata": {
    "id": "UQBB918Z2e9F"
   },
   "source": [
    "## Fahrenheit to Celcius Converter\n",
    "\n",
    "###Instruction: You are going to program a simple converter which converts a Fahrenheit degree to Celcius degree..\n",
    "\n",
    "step1: Ask the user to enter the number in Fahrenheit, (enter stop to quit the program) \n",
    "\n",
    "step2: Calculate the celcius based on the formular c = (f - 32) * 5 / 9\n",
    "\n",
    "step3: print the celcius "
   ]
  },
  {
   "cell_type": "code",
   "execution_count": null,
   "metadata": {
    "id": "KCYqU3Sp2cpT"
   },
   "outputs": [],
   "source": [
    "# your code is here"
   ]
  },
  {
   "cell_type": "markdown",
   "metadata": {
    "id": "AhO_LPgG3S1R"
   },
   "source": [
    "## How many E and e in a sentence?\n",
    "\n",
    "###Instruction: You are going to program a simple counter which finds how many 'E' and 'e' in a sentence entered by the user.\n",
    "\n",
    "step1: Ask the user to enter a sentence\n",
    "\n",
    "step2: Count the number of 'E', and the number of 'e'\n",
    "\n",
    "step3: print the result"
   ]
  },
  {
   "cell_type": "code",
   "execution_count": null,
   "metadata": {
    "id": "6ZAwOiuO5G0X"
   },
   "outputs": [],
   "source": [
    "# your code is here"
   ]
  },
  {
   "cell_type": "markdown",
   "metadata": {
    "id": "7Ysdu7UJ_qf8"
   },
   "source": [
    "**Congratulations! You finished this Assignment and completed Module 4!**"
   ]
  }
 ],
 "metadata": {
  "colab": {
   "authorship_tag": "ABX9TyOMwH2GXnZs3cU5vAbLcb82",
   "collapsed_sections": [],
   "name": "M4Assignment.ipynb",
   "provenance": [],
   "toc_visible": true
  },
  "kernelspec": {
   "display_name": "Python 3 (ipykernel)",
   "language": "python",
   "name": "python3"
  },
  "language_info": {
   "codemirror_mode": {
    "name": "ipython",
    "version": 3
   },
   "file_extension": ".py",
   "mimetype": "text/x-python",
   "name": "python",
   "nbconvert_exporter": "python",
   "pygments_lexer": "ipython3",
   "version": "3.11.0"
  }
 },
 "nbformat": 4,
 "nbformat_minor": 4
}
