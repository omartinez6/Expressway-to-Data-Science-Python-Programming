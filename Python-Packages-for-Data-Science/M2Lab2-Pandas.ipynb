{
 "cells": [
  {
   "cell_type": "markdown",
   "metadata": {
    "id": "fe7l2Vy92BWu"
   },
   "source": [
    "#Welcome to our Lab practice!\n",
    "\n",
    "This lab is all about the package, Pandas. Are you ready? Let's go!\n",
    "\n",
    "You will find some small tasks in sections below. \n",
    "\n",
    "> Try to figure out by yourself, or search for references. Being able to search and find information needed is an important skill that benefits you and your career for a long time.\n",
    "\n",
    "\n",
    "\n"
   ]
  },
  {
   "cell_type": "markdown",
   "metadata": {
    "id": "TTElGHtF2N7g"
   },
   "source": [
    "## Set up the environment"
   ]
  },
  {
   "cell_type": "markdown",
   "metadata": {
    "id": "0CtQu71C3PP8"
   },
   "source": [
    "### Task: import pandas, and name it as pd"
   ]
  },
  {
   "cell_type": "code",
   "execution_count": 28,
   "metadata": {
    "id": "n7qiruks8HZ5"
   },
   "outputs": [],
   "source": [
    "# your code is here\n",
    "import pandas as pd"
   ]
  },
  {
   "cell_type": "markdown",
   "metadata": {
    "id": "Bdt8FDD1i7nb"
   },
   "source": [
    "## Data Creation"
   ]
  },
  {
   "cell_type": "markdown",
   "metadata": {
    "id": "-epzW0mCpkX_"
   },
   "source": [
    "### Task: Find the data [here](https://en.wikipedia.org/wiki/List_of_countries_by_GDP_(nominal)) for the GDP (nomial). For the top **10** countries, create a dataframe that has the names of country, the GDP of the country in 2021 (reported in 2022) by IMF in dollars , the population of the country (you can find the data [here](https://en.wikipedia.org/wiki/List_of_countries_and_dependencies_by_population)) "
   ]
  },
  {
   "cell_type": "code",
   "execution_count": 29,
   "metadata": {
    "id": "hY7XG2rUKetm"
   },
   "outputs": [],
   "source": [
    "# your code is here\n",
    "path_gdp = 'Data/GDP.csv'\n",
    "path_pop = 'Data/Population.csv'\n",
    "\n",
    "df_gdp = pd.read_csv(path_gdp)\n",
    "df_pop = pd.read_csv(path_pop)"
   ]
  },
  {
   "cell_type": "code",
   "execution_count": 30,
   "metadata": {},
   "outputs": [
    {
     "data": {
      "text/html": [
       "<div>\n",
       "<style scoped>\n",
       "    .dataframe tbody tr th:only-of-type {\n",
       "        vertical-align: middle;\n",
       "    }\n",
       "\n",
       "    .dataframe tbody tr th {\n",
       "        vertical-align: top;\n",
       "    }\n",
       "\n",
       "    .dataframe thead th {\n",
       "        text-align: right;\n",
       "    }\n",
       "</style>\n",
       "<table border=\"1\" class=\"dataframe\">\n",
       "  <thead>\n",
       "    <tr style=\"text-align: right;\">\n",
       "      <th></th>\n",
       "      <th>Country/Territory</th>\n",
       "      <th>UN Region</th>\n",
       "      <th>IMF Estimate (2022)</th>\n",
       "      <th>World Bank Estimate (2021)</th>\n",
       "      <th>United Nations Estimate (2020)</th>\n",
       "    </tr>\n",
       "  </thead>\n",
       "  <tbody>\n",
       "    <tr>\n",
       "      <th>0</th>\n",
       "      <td>United States</td>\n",
       "      <td>Americas</td>\n",
       "      <td>25035164</td>\n",
       "      <td>22996100</td>\n",
       "      <td>20893746</td>\n",
       "    </tr>\n",
       "    <tr>\n",
       "      <th>1</th>\n",
       "      <td>China</td>\n",
       "      <td>Asia</td>\n",
       "      <td>18321197</td>\n",
       "      <td>17734063</td>\n",
       "      <td>14722801</td>\n",
       "    </tr>\n",
       "    <tr>\n",
       "      <th>2</th>\n",
       "      <td>Japan</td>\n",
       "      <td>Asia</td>\n",
       "      <td>4300621</td>\n",
       "      <td>4937422</td>\n",
       "      <td>5057759</td>\n",
       "    </tr>\n",
       "    <tr>\n",
       "      <th>3</th>\n",
       "      <td>Germany</td>\n",
       "      <td>Europe</td>\n",
       "      <td>4031149</td>\n",
       "      <td>4223116</td>\n",
       "      <td>3846414</td>\n",
       "    </tr>\n",
       "    <tr>\n",
       "      <th>4</th>\n",
       "      <td>India</td>\n",
       "      <td>Asia</td>\n",
       "      <td>3468566</td>\n",
       "      <td>3173398</td>\n",
       "      <td>2664749</td>\n",
       "    </tr>\n",
       "  </tbody>\n",
       "</table>\n",
       "</div>"
      ],
      "text/plain": [
       "  Country/Territory UN Region  IMF Estimate (2022)  \\\n",
       "0     United States  Americas             25035164   \n",
       "1             China      Asia             18321197   \n",
       "2             Japan      Asia              4300621   \n",
       "3           Germany    Europe              4031149   \n",
       "4             India      Asia              3468566   \n",
       "\n",
       "   World Bank Estimate (2021)  United Nations Estimate (2020)  \n",
       "0                    22996100                        20893746  \n",
       "1                    17734063                        14722801  \n",
       "2                     4937422                         5057759  \n",
       "3                     4223116                         3846414  \n",
       "4                     3173398                         2664749  "
      ]
     },
     "execution_count": 30,
     "metadata": {},
     "output_type": "execute_result"
    }
   ],
   "source": [
    "df_gdp.head()"
   ]
  },
  {
   "cell_type": "code",
   "execution_count": 31,
   "metadata": {},
   "outputs": [
    {
     "data": {
      "text/html": [
       "<div>\n",
       "<style scoped>\n",
       "    .dataframe tbody tr th:only-of-type {\n",
       "        vertical-align: middle;\n",
       "    }\n",
       "\n",
       "    .dataframe tbody tr th {\n",
       "        vertical-align: top;\n",
       "    }\n",
       "\n",
       "    .dataframe thead th {\n",
       "        text-align: right;\n",
       "    }\n",
       "</style>\n",
       "<table border=\"1\" class=\"dataframe\">\n",
       "  <thead>\n",
       "    <tr style=\"text-align: right;\">\n",
       "      <th></th>\n",
       "      <th>Country / Dependency</th>\n",
       "      <th>Population Numbers</th>\n",
       "      <th>Population % of the world</th>\n",
       "      <th>Date</th>\n",
       "      <th>Source (official or from the United Nations)</th>\n",
       "      <th>Notes</th>\n",
       "    </tr>\n",
       "  </thead>\n",
       "  <tbody>\n",
       "    <tr>\n",
       "      <th>0</th>\n",
       "      <td>China</td>\n",
       "      <td>1411750000</td>\n",
       "      <td>17.60%</td>\n",
       "      <td>31 Dec 2022</td>\n",
       "      <td>Official estimate</td>\n",
       "      <td>The population figure refers to mainland China...</td>\n",
       "    </tr>\n",
       "    <tr>\n",
       "      <th>1</th>\n",
       "      <td>India</td>\n",
       "      <td>1388163000</td>\n",
       "      <td>17.30%</td>\n",
       "      <td>01-mar-23</td>\n",
       "      <td>Official projection</td>\n",
       "      <td>The figure includes the population of the Indi...</td>\n",
       "    </tr>\n",
       "    <tr>\n",
       "      <th>2</th>\n",
       "      <td>United States</td>\n",
       "      <td>334520000</td>\n",
       "      <td>4.17%</td>\n",
       "      <td>20-mar-23</td>\n",
       "      <td>National population clock</td>\n",
       "      <td>The figure includes the 50 states and the Dist...</td>\n",
       "    </tr>\n",
       "    <tr>\n",
       "      <th>3</th>\n",
       "      <td>Indonesia</td>\n",
       "      <td>275773800</td>\n",
       "      <td>3.44%</td>\n",
       "      <td>01-jul-22</td>\n",
       "      <td>Official estimate</td>\n",
       "      <td>NaN</td>\n",
       "    </tr>\n",
       "    <tr>\n",
       "      <th>4</th>\n",
       "      <td>Pakistan</td>\n",
       "      <td>235825000</td>\n",
       "      <td>2.94%</td>\n",
       "      <td>01-jul-22</td>\n",
       "      <td>UN projection</td>\n",
       "      <td>The figure includes the population of Pakistan...</td>\n",
       "    </tr>\n",
       "  </tbody>\n",
       "</table>\n",
       "</div>"
      ],
      "text/plain": [
       "  Country / Dependency  Population Numbers Population % of the world  \\\n",
       "0                China          1411750000                    17.60%   \n",
       "1                India          1388163000                    17.30%   \n",
       "2        United States           334520000                     4.17%   \n",
       "3            Indonesia           275773800                     3.44%   \n",
       "4             Pakistan           235825000                     2.94%   \n",
       "\n",
       "          Date Source (official or from the United Nations)  \\\n",
       "0  31 Dec 2022                            Official estimate   \n",
       "1    01-mar-23                          Official projection   \n",
       "2    20-mar-23                    National population clock   \n",
       "3    01-jul-22                            Official estimate   \n",
       "4    01-jul-22                                UN projection   \n",
       "\n",
       "                                               Notes  \n",
       "0  The population figure refers to mainland China...  \n",
       "1  The figure includes the population of the Indi...  \n",
       "2  The figure includes the 50 states and the Dist...  \n",
       "3                                                NaN  \n",
       "4  The figure includes the population of Pakistan...  "
      ]
     },
     "execution_count": 31,
     "metadata": {},
     "output_type": "execute_result"
    }
   ],
   "source": [
    "df_pop.head()"
   ]
  },
  {
   "cell_type": "markdown",
   "metadata": {
    "id": "EyLQMJhzinAJ"
   },
   "source": [
    "## Data Accessing"
   ]
  },
  {
   "cell_type": "markdown",
   "metadata": {
    "id": "3FK5QxBO3dqS"
   },
   "source": [
    "### Task: List the countries and their GDP"
   ]
  },
  {
   "cell_type": "code",
   "execution_count": 32,
   "metadata": {
    "id": "w-XimSI88J1J"
   },
   "outputs": [
    {
     "data": {
      "text/html": [
       "<div>\n",
       "<style scoped>\n",
       "    .dataframe tbody tr th:only-of-type {\n",
       "        vertical-align: middle;\n",
       "    }\n",
       "\n",
       "    .dataframe tbody tr th {\n",
       "        vertical-align: top;\n",
       "    }\n",
       "\n",
       "    .dataframe thead th {\n",
       "        text-align: right;\n",
       "    }\n",
       "</style>\n",
       "<table border=\"1\" class=\"dataframe\">\n",
       "  <thead>\n",
       "    <tr style=\"text-align: right;\">\n",
       "      <th></th>\n",
       "      <th>Country/Territory</th>\n",
       "      <th>IMF Estimate (2022)</th>\n",
       "    </tr>\n",
       "  </thead>\n",
       "  <tbody>\n",
       "    <tr>\n",
       "      <th>0</th>\n",
       "      <td>United States</td>\n",
       "      <td>25035164</td>\n",
       "    </tr>\n",
       "    <tr>\n",
       "      <th>1</th>\n",
       "      <td>China</td>\n",
       "      <td>18321197</td>\n",
       "    </tr>\n",
       "    <tr>\n",
       "      <th>2</th>\n",
       "      <td>Japan</td>\n",
       "      <td>4300621</td>\n",
       "    </tr>\n",
       "    <tr>\n",
       "      <th>3</th>\n",
       "      <td>Germany</td>\n",
       "      <td>4031149</td>\n",
       "    </tr>\n",
       "    <tr>\n",
       "      <th>4</th>\n",
       "      <td>India</td>\n",
       "      <td>3468566</td>\n",
       "    </tr>\n",
       "    <tr>\n",
       "      <th>...</th>\n",
       "      <td>...</td>\n",
       "      <td>...</td>\n",
       "    </tr>\n",
       "    <tr>\n",
       "      <th>211</th>\n",
       "      <td>Palau</td>\n",
       "      <td>226</td>\n",
       "    </tr>\n",
       "    <tr>\n",
       "      <th>212</th>\n",
       "      <td>Kiribati</td>\n",
       "      <td>207</td>\n",
       "    </tr>\n",
       "    <tr>\n",
       "      <th>213</th>\n",
       "      <td>Nauru</td>\n",
       "      <td>134</td>\n",
       "    </tr>\n",
       "    <tr>\n",
       "      <th>214</th>\n",
       "      <td>Montserrat</td>\n",
       "      <td>0</td>\n",
       "    </tr>\n",
       "    <tr>\n",
       "      <th>215</th>\n",
       "      <td>Tuvalu</td>\n",
       "      <td>64</td>\n",
       "    </tr>\n",
       "  </tbody>\n",
       "</table>\n",
       "<p>216 rows × 2 columns</p>\n",
       "</div>"
      ],
      "text/plain": [
       "    Country/Territory  IMF Estimate (2022)\n",
       "0       United States             25035164\n",
       "1               China             18321197\n",
       "2               Japan              4300621\n",
       "3             Germany              4031149\n",
       "4               India              3468566\n",
       "..                ...                  ...\n",
       "211             Palau                  226\n",
       "212          Kiribati                  207\n",
       "213             Nauru                  134\n",
       "214        Montserrat                    0\n",
       "215            Tuvalu                   64\n",
       "\n",
       "[216 rows x 2 columns]"
      ]
     },
     "execution_count": 32,
     "metadata": {},
     "output_type": "execute_result"
    }
   ],
   "source": [
    "# your code is here\n",
    "df_gdp[['Country/Territory','IMF Estimate (2022)']]"
   ]
  },
  {
   "cell_type": "markdown",
   "metadata": {
    "id": "Db9Fwz4KI2al"
   },
   "source": [
    "###Task: List the countries and their population"
   ]
  },
  {
   "cell_type": "code",
   "execution_count": 33,
   "metadata": {
    "id": "W-PCGPuPUSTv"
   },
   "outputs": [
    {
     "data": {
      "text/html": [
       "<div>\n",
       "<style scoped>\n",
       "    .dataframe tbody tr th:only-of-type {\n",
       "        vertical-align: middle;\n",
       "    }\n",
       "\n",
       "    .dataframe tbody tr th {\n",
       "        vertical-align: top;\n",
       "    }\n",
       "\n",
       "    .dataframe thead th {\n",
       "        text-align: right;\n",
       "    }\n",
       "</style>\n",
       "<table border=\"1\" class=\"dataframe\">\n",
       "  <thead>\n",
       "    <tr style=\"text-align: right;\">\n",
       "      <th></th>\n",
       "      <th>Country / Dependency</th>\n",
       "      <th>Population Numbers</th>\n",
       "    </tr>\n",
       "  </thead>\n",
       "  <tbody>\n",
       "    <tr>\n",
       "      <th>0</th>\n",
       "      <td>China</td>\n",
       "      <td>1411750000</td>\n",
       "    </tr>\n",
       "    <tr>\n",
       "      <th>1</th>\n",
       "      <td>India</td>\n",
       "      <td>1388163000</td>\n",
       "    </tr>\n",
       "    <tr>\n",
       "      <th>2</th>\n",
       "      <td>United States</td>\n",
       "      <td>334520000</td>\n",
       "    </tr>\n",
       "    <tr>\n",
       "      <th>3</th>\n",
       "      <td>Indonesia</td>\n",
       "      <td>275773800</td>\n",
       "    </tr>\n",
       "    <tr>\n",
       "      <th>4</th>\n",
       "      <td>Pakistan</td>\n",
       "      <td>235825000</td>\n",
       "    </tr>\n",
       "    <tr>\n",
       "      <th>...</th>\n",
       "      <td>...</td>\n",
       "      <td>...</td>\n",
       "    </tr>\n",
       "    <tr>\n",
       "      <th>236</th>\n",
       "      <td>Tokelau (New Zealand)</td>\n",
       "      <td>1647</td>\n",
       "    </tr>\n",
       "    <tr>\n",
       "      <th>237</th>\n",
       "      <td>Niue</td>\n",
       "      <td>1549</td>\n",
       "    </tr>\n",
       "    <tr>\n",
       "      <th>238</th>\n",
       "      <td>Vatican City</td>\n",
       "      <td>825</td>\n",
       "    </tr>\n",
       "    <tr>\n",
       "      <th>239</th>\n",
       "      <td>Cocos (Keeling) Islands (Australia)</td>\n",
       "      <td>593</td>\n",
       "    </tr>\n",
       "    <tr>\n",
       "      <th>240</th>\n",
       "      <td>Pitcairn Islands (United Kingdom)</td>\n",
       "      <td>47</td>\n",
       "    </tr>\n",
       "  </tbody>\n",
       "</table>\n",
       "<p>241 rows × 2 columns</p>\n",
       "</div>"
      ],
      "text/plain": [
       "                    Country / Dependency  Population Numbers\n",
       "0                                  China          1411750000\n",
       "1                                  India          1388163000\n",
       "2                          United States           334520000\n",
       "3                              Indonesia           275773800\n",
       "4                               Pakistan           235825000\n",
       "..                                   ...                 ...\n",
       "236                Tokelau (New Zealand)                1647\n",
       "237                                 Niue                1549\n",
       "238                         Vatican City                 825\n",
       "239  Cocos (Keeling) Islands (Australia)                 593\n",
       "240    Pitcairn Islands (United Kingdom)                  47\n",
       "\n",
       "[241 rows x 2 columns]"
      ]
     },
     "execution_count": 33,
     "metadata": {},
     "output_type": "execute_result"
    }
   ],
   "source": [
    "# your code is here\n",
    "df_pop[['Country / Dependency','Population Numbers']]"
   ]
  },
  {
   "cell_type": "markdown",
   "metadata": {
    "id": "42rLKWbe3l8m"
   },
   "source": [
    "###Task: List the first country with its GDP and population"
   ]
  },
  {
   "cell_type": "code",
   "execution_count": 34,
   "metadata": {
    "id": "ExbcAYLk8LYI"
   },
   "outputs": [],
   "source": [
    "# your code is here"
   ]
  },
  {
   "cell_type": "markdown",
   "metadata": {
    "id": "1ut5x4Zl2RVu"
   },
   "source": [
    "## Data Selection"
   ]
  },
  {
   "cell_type": "markdown",
   "metadata": {
    "id": "dGUiTYKM4XTF"
   },
   "source": [
    "### Task: Show the countries whose GDP is more than 5 trillion dollars \n",
    "> (Hint: the data source has US$ Million as a unit, hence you need to choose GDP > 5,000,000 unit)\n",
    "\n",
    "\n"
   ]
  },
  {
   "cell_type": "code",
   "execution_count": 35,
   "metadata": {
    "id": "MQ9sEgvL8Mph"
   },
   "outputs": [
    {
     "data": {
      "text/html": [
       "<div>\n",
       "<style scoped>\n",
       "    .dataframe tbody tr th:only-of-type {\n",
       "        vertical-align: middle;\n",
       "    }\n",
       "\n",
       "    .dataframe tbody tr th {\n",
       "        vertical-align: top;\n",
       "    }\n",
       "\n",
       "    .dataframe thead th {\n",
       "        text-align: right;\n",
       "    }\n",
       "</style>\n",
       "<table border=\"1\" class=\"dataframe\">\n",
       "  <thead>\n",
       "    <tr style=\"text-align: right;\">\n",
       "      <th></th>\n",
       "      <th>Country/Territory</th>\n",
       "      <th>UN Region</th>\n",
       "      <th>IMF Estimate (2022)</th>\n",
       "      <th>World Bank Estimate (2021)</th>\n",
       "      <th>United Nations Estimate (2020)</th>\n",
       "    </tr>\n",
       "  </thead>\n",
       "  <tbody>\n",
       "    <tr>\n",
       "      <th>0</th>\n",
       "      <td>United States</td>\n",
       "      <td>Americas</td>\n",
       "      <td>25035164</td>\n",
       "      <td>22996100</td>\n",
       "      <td>20893746</td>\n",
       "    </tr>\n",
       "    <tr>\n",
       "      <th>1</th>\n",
       "      <td>China</td>\n",
       "      <td>Asia</td>\n",
       "      <td>18321197</td>\n",
       "      <td>17734063</td>\n",
       "      <td>14722801</td>\n",
       "    </tr>\n",
       "  </tbody>\n",
       "</table>\n",
       "</div>"
      ],
      "text/plain": [
       "  Country/Territory UN Region  IMF Estimate (2022)  \\\n",
       "0     United States  Americas             25035164   \n",
       "1             China      Asia             18321197   \n",
       "\n",
       "   World Bank Estimate (2021)  United Nations Estimate (2020)  \n",
       "0                    22996100                        20893746  \n",
       "1                    17734063                        14722801  "
      ]
     },
     "execution_count": 35,
     "metadata": {},
     "output_type": "execute_result"
    }
   ],
   "source": [
    "# your code is here\n",
    "df_gdp[df_gdp['IMF Estimate (2022)'] > 5000000]"
   ]
  },
  {
   "cell_type": "markdown",
   "metadata": {
    "id": "VYkj8Sni5SLY"
   },
   "source": [
    "### Task: Show the countries whose GDP is more than 3 trillion dollars"
   ]
  },
  {
   "cell_type": "code",
   "execution_count": 36,
   "metadata": {
    "id": "ezJbefBc8NSc"
   },
   "outputs": [
    {
     "data": {
      "text/html": [
       "<div>\n",
       "<style scoped>\n",
       "    .dataframe tbody tr th:only-of-type {\n",
       "        vertical-align: middle;\n",
       "    }\n",
       "\n",
       "    .dataframe tbody tr th {\n",
       "        vertical-align: top;\n",
       "    }\n",
       "\n",
       "    .dataframe thead th {\n",
       "        text-align: right;\n",
       "    }\n",
       "</style>\n",
       "<table border=\"1\" class=\"dataframe\">\n",
       "  <thead>\n",
       "    <tr style=\"text-align: right;\">\n",
       "      <th></th>\n",
       "      <th>Country/Territory</th>\n",
       "      <th>UN Region</th>\n",
       "      <th>IMF Estimate (2022)</th>\n",
       "      <th>World Bank Estimate (2021)</th>\n",
       "      <th>United Nations Estimate (2020)</th>\n",
       "    </tr>\n",
       "  </thead>\n",
       "  <tbody>\n",
       "    <tr>\n",
       "      <th>0</th>\n",
       "      <td>United States</td>\n",
       "      <td>Americas</td>\n",
       "      <td>25035164</td>\n",
       "      <td>22996100</td>\n",
       "      <td>20893746</td>\n",
       "    </tr>\n",
       "    <tr>\n",
       "      <th>1</th>\n",
       "      <td>China</td>\n",
       "      <td>Asia</td>\n",
       "      <td>18321197</td>\n",
       "      <td>17734063</td>\n",
       "      <td>14722801</td>\n",
       "    </tr>\n",
       "    <tr>\n",
       "      <th>2</th>\n",
       "      <td>Japan</td>\n",
       "      <td>Asia</td>\n",
       "      <td>4300621</td>\n",
       "      <td>4937422</td>\n",
       "      <td>5057759</td>\n",
       "    </tr>\n",
       "    <tr>\n",
       "      <th>3</th>\n",
       "      <td>Germany</td>\n",
       "      <td>Europe</td>\n",
       "      <td>4031149</td>\n",
       "      <td>4223116</td>\n",
       "      <td>3846414</td>\n",
       "    </tr>\n",
       "    <tr>\n",
       "      <th>4</th>\n",
       "      <td>India</td>\n",
       "      <td>Asia</td>\n",
       "      <td>3468566</td>\n",
       "      <td>3173398</td>\n",
       "      <td>2664749</td>\n",
       "    </tr>\n",
       "    <tr>\n",
       "      <th>5</th>\n",
       "      <td>United Kingdom</td>\n",
       "      <td>Europe</td>\n",
       "      <td>3198470</td>\n",
       "      <td>3186860</td>\n",
       "      <td>2764198</td>\n",
       "    </tr>\n",
       "  </tbody>\n",
       "</table>\n",
       "</div>"
      ],
      "text/plain": [
       "  Country/Territory UN Region  IMF Estimate (2022)  \\\n",
       "0     United States  Americas             25035164   \n",
       "1             China      Asia             18321197   \n",
       "2             Japan      Asia              4300621   \n",
       "3           Germany    Europe              4031149   \n",
       "4             India      Asia              3468566   \n",
       "5    United Kingdom    Europe              3198470   \n",
       "\n",
       "   World Bank Estimate (2021)  United Nations Estimate (2020)  \n",
       "0                    22996100                        20893746  \n",
       "1                    17734063                        14722801  \n",
       "2                     4937422                         5057759  \n",
       "3                     4223116                         3846414  \n",
       "4                     3173398                         2664749  \n",
       "5                     3186860                         2764198  "
      ]
     },
     "execution_count": 36,
     "metadata": {},
     "output_type": "execute_result"
    }
   ],
   "source": [
    "# your code is here\n",
    "df_gdp[df_gdp['IMF Estimate (2022)'] > 3000000]"
   ]
  },
  {
   "cell_type": "markdown",
   "metadata": {
    "id": "-BEsJESu4hx0"
   },
   "source": [
    "### Task: Show the countries whose pupulation is more than 1 billion"
   ]
  },
  {
   "cell_type": "code",
   "execution_count": 37,
   "metadata": {
    "id": "GqsoQylO8Nz4"
   },
   "outputs": [
    {
     "data": {
      "text/html": [
       "<div>\n",
       "<style scoped>\n",
       "    .dataframe tbody tr th:only-of-type {\n",
       "        vertical-align: middle;\n",
       "    }\n",
       "\n",
       "    .dataframe tbody tr th {\n",
       "        vertical-align: top;\n",
       "    }\n",
       "\n",
       "    .dataframe thead th {\n",
       "        text-align: right;\n",
       "    }\n",
       "</style>\n",
       "<table border=\"1\" class=\"dataframe\">\n",
       "  <thead>\n",
       "    <tr style=\"text-align: right;\">\n",
       "      <th></th>\n",
       "      <th>Country / Dependency</th>\n",
       "      <th>Population Numbers</th>\n",
       "      <th>Population % of the world</th>\n",
       "      <th>Date</th>\n",
       "      <th>Source (official or from the United Nations)</th>\n",
       "      <th>Notes</th>\n",
       "    </tr>\n",
       "  </thead>\n",
       "  <tbody>\n",
       "    <tr>\n",
       "      <th>0</th>\n",
       "      <td>China</td>\n",
       "      <td>1411750000</td>\n",
       "      <td>17.60%</td>\n",
       "      <td>31 Dec 2022</td>\n",
       "      <td>Official estimate</td>\n",
       "      <td>The population figure refers to mainland China...</td>\n",
       "    </tr>\n",
       "    <tr>\n",
       "      <th>1</th>\n",
       "      <td>India</td>\n",
       "      <td>1388163000</td>\n",
       "      <td>17.30%</td>\n",
       "      <td>01-mar-23</td>\n",
       "      <td>Official projection</td>\n",
       "      <td>The figure includes the population of the Indi...</td>\n",
       "    </tr>\n",
       "  </tbody>\n",
       "</table>\n",
       "</div>"
      ],
      "text/plain": [
       "  Country / Dependency  Population Numbers Population % of the world  \\\n",
       "0                China          1411750000                    17.60%   \n",
       "1                India          1388163000                    17.30%   \n",
       "\n",
       "          Date Source (official or from the United Nations)  \\\n",
       "0  31 Dec 2022                            Official estimate   \n",
       "1    01-mar-23                          Official projection   \n",
       "\n",
       "                                               Notes  \n",
       "0  The population figure refers to mainland China...  \n",
       "1  The figure includes the population of the Indi...  "
      ]
     },
     "execution_count": 37,
     "metadata": {},
     "output_type": "execute_result"
    }
   ],
   "source": [
    "# your code is here\n",
    "df_pop[df_pop['Population Numbers'] > 1000000000]"
   ]
  },
  {
   "cell_type": "markdown",
   "metadata": {
    "id": "NOLUtTzDLD-l"
   },
   "source": [
    "###Task: Show the countries whose pupulation is less than 300 million"
   ]
  },
  {
   "cell_type": "code",
   "execution_count": 38,
   "metadata": {
    "id": "p_YG72N2UYjG"
   },
   "outputs": [
    {
     "data": {
      "text/html": [
       "<div>\n",
       "<style scoped>\n",
       "    .dataframe tbody tr th:only-of-type {\n",
       "        vertical-align: middle;\n",
       "    }\n",
       "\n",
       "    .dataframe tbody tr th {\n",
       "        vertical-align: top;\n",
       "    }\n",
       "\n",
       "    .dataframe thead th {\n",
       "        text-align: right;\n",
       "    }\n",
       "</style>\n",
       "<table border=\"1\" class=\"dataframe\">\n",
       "  <thead>\n",
       "    <tr style=\"text-align: right;\">\n",
       "      <th></th>\n",
       "      <th>Country / Dependency</th>\n",
       "      <th>Population Numbers</th>\n",
       "      <th>Population % of the world</th>\n",
       "      <th>Date</th>\n",
       "      <th>Source (official or from the United Nations)</th>\n",
       "      <th>Notes</th>\n",
       "    </tr>\n",
       "  </thead>\n",
       "  <tbody>\n",
       "    <tr>\n",
       "      <th>0</th>\n",
       "      <td>China</td>\n",
       "      <td>1411750000</td>\n",
       "      <td>17.60%</td>\n",
       "      <td>31 Dec 2022</td>\n",
       "      <td>Official estimate</td>\n",
       "      <td>The population figure refers to mainland China...</td>\n",
       "    </tr>\n",
       "    <tr>\n",
       "      <th>1</th>\n",
       "      <td>India</td>\n",
       "      <td>1388163000</td>\n",
       "      <td>17.30%</td>\n",
       "      <td>01-mar-23</td>\n",
       "      <td>Official projection</td>\n",
       "      <td>The figure includes the population of the Indi...</td>\n",
       "    </tr>\n",
       "    <tr>\n",
       "      <th>2</th>\n",
       "      <td>United States</td>\n",
       "      <td>334520000</td>\n",
       "      <td>4.17%</td>\n",
       "      <td>20-mar-23</td>\n",
       "      <td>National population clock</td>\n",
       "      <td>The figure includes the 50 states and the Dist...</td>\n",
       "    </tr>\n",
       "  </tbody>\n",
       "</table>\n",
       "</div>"
      ],
      "text/plain": [
       "  Country / Dependency  Population Numbers Population % of the world  \\\n",
       "0                China          1411750000                    17.60%   \n",
       "1                India          1388163000                    17.30%   \n",
       "2        United States           334520000                     4.17%   \n",
       "\n",
       "          Date Source (official or from the United Nations)  \\\n",
       "0  31 Dec 2022                            Official estimate   \n",
       "1    01-mar-23                          Official projection   \n",
       "2    20-mar-23                    National population clock   \n",
       "\n",
       "                                               Notes  \n",
       "0  The population figure refers to mainland China...  \n",
       "1  The figure includes the population of the Indi...  \n",
       "2  The figure includes the 50 states and the Dist...  "
      ]
     },
     "execution_count": 38,
     "metadata": {},
     "output_type": "execute_result"
    }
   ],
   "source": [
    "# your code is here\n",
    "df_pop[df_pop['Population Numbers'] > 300000000]"
   ]
  },
  {
   "cell_type": "markdown",
   "metadata": {
    "id": "_dzBCEzWLG3v"
   },
   "source": [
    "###Task: Show the countries whose pupulation is between 300 million and 500 million"
   ]
  },
  {
   "cell_type": "code",
   "execution_count": 39,
   "metadata": {
    "id": "e-G7QckRUZIs"
   },
   "outputs": [
    {
     "data": {
      "text/html": [
       "<div>\n",
       "<style scoped>\n",
       "    .dataframe tbody tr th:only-of-type {\n",
       "        vertical-align: middle;\n",
       "    }\n",
       "\n",
       "    .dataframe tbody tr th {\n",
       "        vertical-align: top;\n",
       "    }\n",
       "\n",
       "    .dataframe thead th {\n",
       "        text-align: right;\n",
       "    }\n",
       "</style>\n",
       "<table border=\"1\" class=\"dataframe\">\n",
       "  <thead>\n",
       "    <tr style=\"text-align: right;\">\n",
       "      <th></th>\n",
       "      <th>Country / Dependency</th>\n",
       "      <th>Population Numbers</th>\n",
       "      <th>Population % of the world</th>\n",
       "      <th>Date</th>\n",
       "      <th>Source (official or from the United Nations)</th>\n",
       "      <th>Notes</th>\n",
       "    </tr>\n",
       "  </thead>\n",
       "  <tbody>\n",
       "    <tr>\n",
       "      <th>2</th>\n",
       "      <td>United States</td>\n",
       "      <td>334520000</td>\n",
       "      <td>4.17%</td>\n",
       "      <td>20-mar-23</td>\n",
       "      <td>National population clock</td>\n",
       "      <td>The figure includes the 50 states and the Dist...</td>\n",
       "    </tr>\n",
       "  </tbody>\n",
       "</table>\n",
       "</div>"
      ],
      "text/plain": [
       "  Country / Dependency  Population Numbers Population % of the world  \\\n",
       "2        United States           334520000                     4.17%   \n",
       "\n",
       "        Date Source (official or from the United Nations)  \\\n",
       "2  20-mar-23                    National population clock   \n",
       "\n",
       "                                               Notes  \n",
       "2  The figure includes the 50 states and the Dist...  "
      ]
     },
     "execution_count": 39,
     "metadata": {},
     "output_type": "execute_result"
    }
   ],
   "source": [
    "# your code is here\n",
    "df_pop[(df_pop['Population Numbers'] > 300000000) & (df_pop['Population Numbers'] < 500000000)]"
   ]
  },
  {
   "cell_type": "markdown",
   "metadata": {
    "id": "BwMQX2n4Ttkk"
   },
   "source": [
    "## Data Manipulation"
   ]
  },
  {
   "cell_type": "markdown",
   "metadata": {
    "id": "ZC1IirZtSi13"
   },
   "source": [
    "###Task: Create a new column, called \"GDP per capita\", based on the column \"GDP\" and the column \"Population\""
   ]
  },
  {
   "cell_type": "code",
   "execution_count": null,
   "metadata": {
    "id": "VDEv57JAUer6"
   },
   "outputs": [],
   "source": [
    "# your code is here"
   ]
  },
  {
   "cell_type": "markdown",
   "metadata": {
    "id": "fl9WXnhTTAol"
   },
   "source": [
    "## Data Understanding"
   ]
  },
  {
   "cell_type": "markdown",
   "metadata": {
    "id": "Ll4gLDnfSOTv"
   },
   "source": [
    "###Task: With the three numeric columns, show the statsitics of each:\n",
    "\n",
    "\n",
    "1.   Count\n",
    "1.   Max\n",
    "1.   Min\n",
    "1.   Mean\n",
    "1.   Median\n",
    "1.   Quantiles\n",
    "1.   25% Quantile\n",
    "1.   50% Quantile\n",
    "1.   75% QUantile\n",
    "1.   Variance\n",
    "1.   Std\n",
    "1.   Total\n",
    "\n",
    "\n"
   ]
  },
  {
   "cell_type": "code",
   "execution_count": 40,
   "metadata": {
    "id": "T3K8rFcMUgPT"
   },
   "outputs": [],
   "source": [
    "# your code is here\n",
    "pop = df_pop['Population Numbers']"
   ]
  },
  {
   "cell_type": "code",
   "execution_count": 60,
   "metadata": {},
   "outputs": [
    {
     "data": {
      "text/plain": [
       "(241,\n",
       " 1411750000,\n",
       " 47,\n",
       " 32539923.253112033,\n",
       " 5431344.0,\n",
       " 0.25      301295.0\n",
       " 0.50     5431344.0\n",
       " 0.75    22125000.0\n",
       " Name: Population Numbers, dtype: float64,\n",
       " 1.767073093174247e+16,\n",
       " 132931301.54987,\n",
       " 7842121504)"
      ]
     },
     "execution_count": 60,
     "metadata": {},
     "output_type": "execute_result"
    }
   ],
   "source": [
    "pop.count(), pop.max(), pop.min(), pop.mean(), pop.median(),  pop.quantile([0.25,0.5,0.75]), pop.var(), pop.std(), pop.sum()"
   ]
  },
  {
   "cell_type": "code",
   "execution_count": null,
   "metadata": {},
   "outputs": [],
   "source": []
  }
 ],
 "metadata": {
  "colab": {
   "authorship_tag": "ABX9TyN7mdzBnkZUONcv4g49L30/",
   "collapsed_sections": [
    "EyLQMJhzinAJ"
   ],
   "name": "M2Lab2-Pandas.ipynb",
   "provenance": [],
   "toc_visible": true
  },
  "kernelspec": {
   "display_name": "Python 3 (ipykernel)",
   "language": "python",
   "name": "python3"
  },
  "language_info": {
   "codemirror_mode": {
    "name": "ipython",
    "version": 3
   },
   "file_extension": ".py",
   "mimetype": "text/x-python",
   "name": "python",
   "nbconvert_exporter": "python",
   "pygments_lexer": "ipython3",
   "version": "3.11.2"
  }
 },
 "nbformat": 4,
 "nbformat_minor": 4
}
