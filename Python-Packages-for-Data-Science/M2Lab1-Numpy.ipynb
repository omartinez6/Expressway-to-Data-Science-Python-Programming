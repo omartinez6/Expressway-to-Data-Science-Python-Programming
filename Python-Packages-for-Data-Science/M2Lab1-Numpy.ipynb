{
 "cells": [
  {
   "cell_type": "markdown",
   "metadata": {
    "id": "fe7l2Vy92BWu"
   },
   "source": [
    "#Welcome to our Lab practice!\n",
    "\n",
    "This lab is all about the package, Numpy. Are you ready? Let's go!\n",
    "\n",
    "You will find some small tasks in sections below. \n",
    "\n",
    "> Try to figure out by yourself, or search for references. Being able to search and find information needed is an important skill that benefits you and your career for a long time.\n",
    "\n",
    "\n",
    "\n"
   ]
  },
  {
   "cell_type": "markdown",
   "metadata": {
    "id": "BG7wrui4BGri"
   },
   "source": [
    "## Import the package and rename it as np"
   ]
  },
  {
   "cell_type": "code",
   "execution_count": 1,
   "metadata": {
    "id": "qPVT30J3BKv6"
   },
   "outputs": [],
   "source": [
    "# your code is here\n",
    "import numpy as np"
   ]
  },
  {
   "cell_type": "markdown",
   "metadata": {
    "id": "TTElGHtF2N7g"
   },
   "source": [
    "## Array Creation"
   ]
  },
  {
   "cell_type": "markdown",
   "metadata": {
    "id": "0CtQu71C3PP8"
   },
   "source": [
    "### Task: Create a numpy array from a list of integers"
   ]
  },
  {
   "cell_type": "code",
   "execution_count": 7,
   "metadata": {
    "id": "n7qiruks8HZ5"
   },
   "outputs": [
    {
     "data": {
      "text/plain": [
       "array([1, 2, 3, 4, 5, 6])"
      ]
     },
     "execution_count": 7,
     "metadata": {},
     "output_type": "execute_result"
    }
   ],
   "source": [
    "# your code is here\n",
    "i = np.array([1,2,3,4,5,6])\n",
    "i"
   ]
  },
  {
   "cell_type": "markdown",
   "metadata": {
    "id": "3FK5QxBO3dqS"
   },
   "source": [
    "### Task: Create a numpy array of size 6, filled with zeros"
   ]
  },
  {
   "cell_type": "code",
   "execution_count": 8,
   "metadata": {
    "id": "w-XimSI88J1J"
   },
   "outputs": [
    {
     "data": {
      "text/plain": [
       "array([0., 0., 0., 0., 0., 0.])"
      ]
     },
     "execution_count": 8,
     "metadata": {},
     "output_type": "execute_result"
    }
   ],
   "source": [
    "# your code is here\n",
    "i = np.zeros(6)\n",
    "i"
   ]
  },
  {
   "cell_type": "markdown",
   "metadata": {
    "id": "Db9Fwz4KI2al"
   },
   "source": [
    "###Task: Create a numpy array of size 6, filled with ones"
   ]
  },
  {
   "cell_type": "code",
   "execution_count": 9,
   "metadata": {
    "id": "W-PCGPuPUSTv"
   },
   "outputs": [
    {
     "data": {
      "text/plain": [
       "array([1., 1., 1., 1., 1., 1.])"
      ]
     },
     "execution_count": 9,
     "metadata": {},
     "output_type": "execute_result"
    }
   ],
   "source": [
    "# your code is here\n",
    "i = np.ones(6)\n",
    "i"
   ]
  },
  {
   "cell_type": "markdown",
   "metadata": {
    "id": "42rLKWbe3l8m"
   },
   "source": [
    "###Task: Create a numpy array with values from 0 to 10"
   ]
  },
  {
   "cell_type": "code",
   "execution_count": 11,
   "metadata": {
    "id": "ExbcAYLk8LYI"
   },
   "outputs": [
    {
     "data": {
      "text/plain": [
       "array([ 0,  1,  2,  3,  4,  5,  6,  7,  8,  9, 10])"
      ]
     },
     "execution_count": 11,
     "metadata": {},
     "output_type": "execute_result"
    }
   ],
   "source": [
    "# your code is here\n",
    "i = np.array(range(0,11))\n",
    "i\n",
    "j = np.arange(0,11)\n",
    "j"
   ]
  },
  {
   "cell_type": "markdown",
   "metadata": {
    "id": "c5314DLtJVyv"
   },
   "source": [
    "###Task: Create a numpy matrix of 2*3 integers, filled with zeros"
   ]
  },
  {
   "cell_type": "code",
   "execution_count": 13,
   "metadata": {
    "id": "JRNBES4MUTV2"
   },
   "outputs": [
    {
     "data": {
      "text/plain": [
       "array([[1., 1., 1.],\n",
       "       [1., 1., 1.]])"
      ]
     },
     "execution_count": 13,
     "metadata": {},
     "output_type": "execute_result"
    }
   ],
   "source": [
    "# your code is here\n",
    "i = np.ones((2,3))\n",
    "i"
   ]
  },
  {
   "cell_type": "markdown",
   "metadata": {
    "id": "tyPLq8JwJcQR"
   },
   "source": [
    "###Task: Create a numpy matrix of 3*2 integers, filled with ones"
   ]
  },
  {
   "cell_type": "code",
   "execution_count": 15,
   "metadata": {
    "id": "BbZBfz_qUUgf"
   },
   "outputs": [
    {
     "data": {
      "text/plain": [
       "array([[1., 1.],\n",
       "       [1., 1.],\n",
       "       [1., 1.]])"
      ]
     },
     "execution_count": 15,
     "metadata": {},
     "output_type": "execute_result"
    }
   ],
   "source": [
    "# your code is here\n",
    "i = np.ones((3,2))\n",
    "i"
   ]
  },
  {
   "cell_type": "markdown",
   "metadata": {
    "id": "oIYfk1CJJs4R"
   },
   "source": [
    "###Task: Create a numpy matrix of 3*2 integers, filled with random integers in [0, 10]"
   ]
  },
  {
   "cell_type": "code",
   "execution_count": 17,
   "metadata": {
    "id": "f3rSXHN1UVJt"
   },
   "outputs": [
    {
     "data": {
      "text/plain": [
       "array([[1, 2],\n",
       "       [0, 5],\n",
       "       [4, 5]])"
      ]
     },
     "execution_count": 17,
     "metadata": {},
     "output_type": "execute_result"
    }
   ],
   "source": [
    "# your code is here\n",
    "i = np.random.randint(0,10,(3,2))\n",
    "i"
   ]
  },
  {
   "cell_type": "markdown",
   "metadata": {
    "id": "-61o4-pCJ7y8"
   },
   "source": [
    "###Task: Create a numpy matrix of 100 * 2, filled with random float value in [0, 1]"
   ]
  },
  {
   "cell_type": "code",
   "execution_count": 18,
   "metadata": {
    "id": "NpxV1fsOUVtd"
   },
   "outputs": [
    {
     "data": {
      "text/plain": [
       "array([[0.46640598, 0.34130827],\n",
       "       [0.1121393 , 0.93206945],\n",
       "       [0.77515539, 0.37652793],\n",
       "       [0.81084232, 0.91547817],\n",
       "       [0.03174419, 0.49042847],\n",
       "       [0.48119803, 0.42974804],\n",
       "       [0.60027136, 0.23765037],\n",
       "       [0.35823916, 0.93235209],\n",
       "       [0.94476647, 0.47953328],\n",
       "       [0.64350078, 0.86419637],\n",
       "       [0.15120406, 0.74546464],\n",
       "       [0.72306688, 0.8281349 ],\n",
       "       [0.36572116, 0.57559807],\n",
       "       [0.82668058, 0.47307379],\n",
       "       [0.38935219, 0.37481672],\n",
       "       [0.8329688 , 0.30877918],\n",
       "       [0.34782901, 0.44440617],\n",
       "       [0.43373336, 0.27770258],\n",
       "       [0.99659353, 0.30091242],\n",
       "       [0.28690934, 0.57713503],\n",
       "       [0.5565994 , 0.01531381],\n",
       "       [0.81517393, 0.9921456 ],\n",
       "       [0.81958788, 0.10228423],\n",
       "       [0.46028484, 0.31091666],\n",
       "       [0.02740439, 0.1644496 ],\n",
       "       [0.00954882, 0.98966527],\n",
       "       [0.61012217, 0.07728593],\n",
       "       [0.05865494, 0.53486215],\n",
       "       [0.29944024, 0.57113195],\n",
       "       [0.71415571, 0.07640804],\n",
       "       [0.36617653, 0.01422819],\n",
       "       [0.47961116, 0.16868364],\n",
       "       [0.77416676, 0.68813516],\n",
       "       [0.26723828, 0.27670708],\n",
       "       [0.67706968, 0.52945453],\n",
       "       [0.12068316, 0.4107633 ],\n",
       "       [0.86228739, 0.04410321],\n",
       "       [0.32927765, 0.84201579],\n",
       "       [0.39268811, 0.5039668 ],\n",
       "       [0.29473166, 0.8557658 ],\n",
       "       [0.57312844, 0.0783628 ],\n",
       "       [0.92158223, 0.545315  ],\n",
       "       [0.45847367, 0.54355028],\n",
       "       [0.99447566, 0.56040789],\n",
       "       [0.88068736, 0.73387369],\n",
       "       [0.38749654, 0.73973155],\n",
       "       [0.27731072, 0.36389993],\n",
       "       [0.56018051, 0.76038939],\n",
       "       [0.42934454, 0.25806613],\n",
       "       [0.25133916, 0.85117842],\n",
       "       [0.98130777, 0.50211063],\n",
       "       [0.74452539, 0.64129084],\n",
       "       [0.23919963, 0.5818179 ],\n",
       "       [0.09368761, 0.53268984],\n",
       "       [0.40309991, 0.92804669],\n",
       "       [0.47337972, 0.88515644],\n",
       "       [0.77926193, 0.33557644],\n",
       "       [0.91818064, 0.09057663],\n",
       "       [0.78624934, 0.00961725],\n",
       "       [0.23276583, 0.43812042],\n",
       "       [0.41526795, 0.43550542],\n",
       "       [0.76412713, 0.35861072],\n",
       "       [0.88311079, 0.57029903],\n",
       "       [0.27410168, 0.51215699],\n",
       "       [0.55000611, 0.31477926],\n",
       "       [0.69274425, 0.87823121],\n",
       "       [0.0283856 , 0.24978624],\n",
       "       [0.83933231, 0.58922339],\n",
       "       [0.42152159, 0.32646543],\n",
       "       [0.45275745, 0.26495241],\n",
       "       [0.44628229, 0.99187988],\n",
       "       [0.10727979, 0.12401076],\n",
       "       [0.844767  , 0.91279984],\n",
       "       [0.72218706, 0.15316968],\n",
       "       [0.6045021 , 0.02038273],\n",
       "       [0.50854483, 0.75395984],\n",
       "       [0.75886447, 0.10642532],\n",
       "       [0.61714697, 0.13710208],\n",
       "       [0.36026683, 0.83785126],\n",
       "       [0.77461435, 0.72041799],\n",
       "       [0.99431544, 0.90652612],\n",
       "       [0.17638564, 0.85639786],\n",
       "       [0.62063847, 0.93458553],\n",
       "       [0.93703602, 0.64938904],\n",
       "       [0.34165304, 0.08890438],\n",
       "       [0.14363892, 0.26243477],\n",
       "       [0.95471122, 0.19967675],\n",
       "       [0.51132444, 0.32325222],\n",
       "       [0.04575984, 0.21393612],\n",
       "       [0.66412871, 0.28843745],\n",
       "       [0.88901311, 0.96368555],\n",
       "       [0.16496133, 0.94507597],\n",
       "       [0.42960713, 0.12585139],\n",
       "       [0.1079664 , 0.95826362],\n",
       "       [0.69328225, 0.09734512],\n",
       "       [0.29006095, 0.5832116 ],\n",
       "       [0.50646587, 0.7292115 ],\n",
       "       [0.11352668, 0.09115803],\n",
       "       [0.92439553, 0.87525035],\n",
       "       [0.79017182, 0.34147897]])"
      ]
     },
     "execution_count": 18,
     "metadata": {},
     "output_type": "execute_result"
    }
   ],
   "source": [
    "# your code is here\n",
    "i = np.random.random((100,2))\n",
    "i"
   ]
  },
  {
   "cell_type": "markdown",
   "metadata": {
    "id": "jZ4l3axBJ5tJ"
   },
   "source": [
    "###Task: Create a numpy matrix of 2 * 3 * 4, filled with integers from 1 to 24."
   ]
  },
  {
   "cell_type": "code",
   "execution_count": 24,
   "metadata": {
    "id": "G3AKUvkMUWu2"
   },
   "outputs": [
    {
     "data": {
      "text/plain": [
       "array([[[ 1,  2,  3,  4],\n",
       "        [ 5,  6,  7,  8],\n",
       "        [ 9, 10, 11, 12]],\n",
       "\n",
       "       [[13, 14, 15, 16],\n",
       "        [17, 18, 19, 20],\n",
       "        [21, 22, 23, 24]]])"
      ]
     },
     "execution_count": 24,
     "metadata": {},
     "output_type": "execute_result"
    }
   ],
   "source": [
    "# your code is here\n",
    "i = np.arange(1,25).reshape(2,3,4)\n",
    "i"
   ]
  },
  {
   "cell_type": "markdown",
   "metadata": {
    "id": "1ut5x4Zl2RVu"
   },
   "source": [
    "## Array Indexing"
   ]
  },
  {
   "cell_type": "markdown",
   "metadata": {
    "id": "3iWGsCO4KpaD"
   },
   "source": [
    "### Task: Let X be a numpy array, and X = np.array([1, 2, 3, 4, 5])"
   ]
  },
  {
   "cell_type": "code",
   "execution_count": 25,
   "metadata": {
    "id": "_OfiD8vBBhCM"
   },
   "outputs": [],
   "source": [
    "# your code is here\n",
    "x = np.array([1,2,3,4,5])"
   ]
  },
  {
   "cell_type": "markdown",
   "metadata": {
    "id": "dGUiTYKM4XTF"
   },
   "source": [
    "### Task: Show the first element of X"
   ]
  },
  {
   "cell_type": "code",
   "execution_count": 26,
   "metadata": {
    "id": "MQ9sEgvL8Mph"
   },
   "outputs": [
    {
     "data": {
      "text/plain": [
       "1"
      ]
     },
     "execution_count": 26,
     "metadata": {},
     "output_type": "execute_result"
    }
   ],
   "source": [
    "# your code is here\n",
    "x[0]"
   ]
  },
  {
   "cell_type": "markdown",
   "metadata": {
    "id": "VYkj8Sni5SLY"
   },
   "source": [
    "### Task: Show the last element of X"
   ]
  },
  {
   "cell_type": "code",
   "execution_count": 27,
   "metadata": {
    "id": "ezJbefBc8NSc"
   },
   "outputs": [
    {
     "data": {
      "text/plain": [
       "5"
      ]
     },
     "execution_count": 27,
     "metadata": {},
     "output_type": "execute_result"
    }
   ],
   "source": [
    "# your code is here\n",
    "x[-1]"
   ]
  },
  {
   "cell_type": "markdown",
   "metadata": {
    "id": "-BEsJESu4hx0"
   },
   "source": [
    "### Task: Show the first 3 elements of X"
   ]
  },
  {
   "cell_type": "code",
   "execution_count": 28,
   "metadata": {
    "id": "GqsoQylO8Nz4"
   },
   "outputs": [
    {
     "data": {
      "text/plain": [
       "array([1, 2, 3])"
      ]
     },
     "execution_count": 28,
     "metadata": {},
     "output_type": "execute_result"
    }
   ],
   "source": [
    "# your code is here\n",
    "x[:3]"
   ]
  },
  {
   "cell_type": "markdown",
   "metadata": {
    "id": "NOLUtTzDLD-l"
   },
   "source": [
    "###Task: Show the last 3 elements of X"
   ]
  },
  {
   "cell_type": "code",
   "execution_count": 29,
   "metadata": {
    "id": "p_YG72N2UYjG"
   },
   "outputs": [
    {
     "data": {
      "text/plain": [
       "array([3, 4, 5])"
      ]
     },
     "execution_count": 29,
     "metadata": {},
     "output_type": "execute_result"
    }
   ],
   "source": [
    "# your code is here\n",
    "x[-3:]"
   ]
  },
  {
   "cell_type": "markdown",
   "metadata": {
    "id": "_dzBCEzWLG3v"
   },
   "source": [
    "###Task: Show the elements of X whose index is odd (1, 3, 5, ...)"
   ]
  },
  {
   "cell_type": "code",
   "execution_count": 30,
   "metadata": {
    "id": "e-G7QckRUZIs"
   },
   "outputs": [
    {
     "data": {
      "text/plain": [
       "array([1, 3, 5])"
      ]
     },
     "execution_count": 30,
     "metadata": {},
     "output_type": "execute_result"
    }
   ],
   "source": [
    "# your code is here\n",
    "x[::2]"
   ]
  },
  {
   "cell_type": "markdown",
   "metadata": {
    "id": "tsukfJQ1LabJ"
   },
   "source": [
    "###Task: Show the elements of X except the last one"
   ]
  },
  {
   "cell_type": "code",
   "execution_count": 31,
   "metadata": {
    "id": "PlPO_MgPUZqG"
   },
   "outputs": [
    {
     "data": {
      "text/plain": [
       "array([1, 2, 3, 4])"
      ]
     },
     "execution_count": 31,
     "metadata": {},
     "output_type": "execute_result"
    }
   ],
   "source": [
    "# your code is here\n",
    "x[:-1]"
   ]
  },
  {
   "cell_type": "markdown",
   "metadata": {
    "id": "8EhDJvC2Lm77"
   },
   "source": [
    "### Task: Let X be a numpy matrix with dimension 3 * 4, and filled from 0 to 11."
   ]
  },
  {
   "cell_type": "code",
   "execution_count": 33,
   "metadata": {
    "id": "fwvu0ToqBiXA"
   },
   "outputs": [
    {
     "data": {
      "text/plain": [
       "array([[ 0,  1,  2,  3],\n",
       "       [ 4,  5,  6,  7],\n",
       "       [ 8,  9, 10, 11]])"
      ]
     },
     "execution_count": 33,
     "metadata": {},
     "output_type": "execute_result"
    }
   ],
   "source": [
    "# your code is here\n",
    "x = np.arange(0,12).reshape(3,4)\n",
    "x"
   ]
  },
  {
   "cell_type": "markdown",
   "metadata": {
    "id": "hi4_PetZ4oJk"
   },
   "source": [
    "###Task: Show the first row of X"
   ]
  },
  {
   "cell_type": "code",
   "execution_count": 35,
   "metadata": {
    "id": "Iwz0Ljxs8OqA"
   },
   "outputs": [
    {
     "data": {
      "text/plain": [
       "array([0, 1, 2, 3])"
      ]
     },
     "execution_count": 35,
     "metadata": {},
     "output_type": "execute_result"
    }
   ],
   "source": [
    "# your code is here\n",
    "x[0]"
   ]
  },
  {
   "cell_type": "markdown",
   "metadata": {
    "id": "4juNISwiP3jt"
   },
   "source": [
    "###Task: Show the first column of X"
   ]
  },
  {
   "cell_type": "code",
   "execution_count": 38,
   "metadata": {
    "id": "dPDgvTVeUakl"
   },
   "outputs": [
    {
     "data": {
      "text/plain": [
       "array([0, 4, 8])"
      ]
     },
     "execution_count": 38,
     "metadata": {},
     "output_type": "execute_result"
    }
   ],
   "source": [
    "# your code is here\n",
    "x[:,0]"
   ]
  },
  {
   "cell_type": "markdown",
   "metadata": {
    "id": "FOhsq6KcP6BX"
   },
   "source": [
    "###Task: Show the first element of the first row of X"
   ]
  },
  {
   "cell_type": "code",
   "execution_count": 40,
   "metadata": {
    "id": "HpawggljUbOk"
   },
   "outputs": [
    {
     "data": {
      "text/plain": [
       "0"
      ]
     },
     "execution_count": 40,
     "metadata": {},
     "output_type": "execute_result"
    }
   ],
   "source": [
    "# your code is here\n",
    "x[0][0]\n",
    "x[0,0]"
   ]
  },
  {
   "cell_type": "markdown",
   "metadata": {
    "id": "1fCRCWyxP_rX"
   },
   "source": [
    "###Task: Show the last row of X"
   ]
  },
  {
   "cell_type": "code",
   "execution_count": 41,
   "metadata": {
    "id": "hVPhcd5cUby8"
   },
   "outputs": [
    {
     "data": {
      "text/plain": [
       "array([ 8,  9, 10, 11])"
      ]
     },
     "execution_count": 41,
     "metadata": {},
     "output_type": "execute_result"
    }
   ],
   "source": [
    "# your code is here\n",
    "x[-1]"
   ]
  },
  {
   "cell_type": "markdown",
   "metadata": {
    "id": "VfwEaj7-QB68"
   },
   "source": [
    "###Task: Show the last column of X"
   ]
  },
  {
   "cell_type": "code",
   "execution_count": 42,
   "metadata": {
    "id": "R9LK1G9wUcat"
   },
   "outputs": [
    {
     "data": {
      "text/plain": [
       "array([ 3,  7, 11])"
      ]
     },
     "execution_count": 42,
     "metadata": {},
     "output_type": "execute_result"
    }
   ],
   "source": [
    "# your code is here\n",
    "x[:,-1]"
   ]
  },
  {
   "cell_type": "markdown",
   "metadata": {
    "id": "gfnCcIJmQEFZ"
   },
   "source": [
    "###Task: Show the last element of the last row of X"
   ]
  },
  {
   "cell_type": "code",
   "execution_count": 43,
   "metadata": {
    "id": "8cKHG30wUc4-"
   },
   "outputs": [
    {
     "data": {
      "text/plain": [
       "11"
      ]
     },
     "execution_count": 43,
     "metadata": {},
     "output_type": "execute_result"
    }
   ],
   "source": [
    "# your code is here\n",
    "x[-1,-1]"
   ]
  },
  {
   "cell_type": "markdown",
   "metadata": {
    "id": "mavuLFztQGkA"
   },
   "source": [
    "###Task: Show all the rows except the last row of X"
   ]
  },
  {
   "cell_type": "code",
   "execution_count": 46,
   "metadata": {
    "id": "yqg06Mk9Udeb"
   },
   "outputs": [
    {
     "data": {
      "text/plain": [
       "array([[0, 1, 2, 3],\n",
       "       [4, 5, 6, 7]])"
      ]
     },
     "execution_count": 46,
     "metadata": {},
     "output_type": "execute_result"
    }
   ],
   "source": [
    "# your code is here\n",
    "x[:-1]"
   ]
  },
  {
   "cell_type": "markdown",
   "metadata": {
    "id": "gsugFt6CQSv8"
   },
   "source": [
    "###Task: Show all the columns except the last column of X"
   ]
  },
  {
   "cell_type": "code",
   "execution_count": 48,
   "metadata": {
    "id": "aSmfSj0rUd0d"
   },
   "outputs": [
    {
     "data": {
      "text/plain": [
       "array([[ 0,  1,  2],\n",
       "       [ 4,  5,  6],\n",
       "       [ 8,  9, 10]])"
      ]
     },
     "execution_count": 48,
     "metadata": {},
     "output_type": "execute_result"
    }
   ],
   "source": [
    "# your code is here\n",
    "x[:,:-1]"
   ]
  },
  {
   "cell_type": "markdown",
   "metadata": {
    "id": "q39M28ow6Oqj"
   },
   "source": [
    "### Task: Show the first two elements of the first two rows"
   ]
  },
  {
   "cell_type": "code",
   "execution_count": 49,
   "metadata": {
    "id": "i5tQ-9118PPg"
   },
   "outputs": [
    {
     "data": {
      "text/plain": [
       "array([[0, 1],\n",
       "       [4, 5]])"
      ]
     },
     "execution_count": 49,
     "metadata": {},
     "output_type": "execute_result"
    }
   ],
   "source": [
    "# your code is here\n",
    "x[:2,:2]"
   ]
  },
  {
   "cell_type": "markdown",
   "metadata": {
    "id": "BwMQX2n4Ttkk"
   },
   "source": [
    "## Array Statistics"
   ]
  },
  {
   "cell_type": "markdown",
   "metadata": {
    "id": "ZC1IirZtSi13"
   },
   "source": [
    "###Task: Create a numpy array X, print the sum, mean, std, var, max, min of it"
   ]
  },
  {
   "cell_type": "code",
   "execution_count": 56,
   "metadata": {
    "id": "VDEv57JAUer6"
   },
   "outputs": [
    {
     "name": "stdout",
     "output_type": "stream",
     "text": [
      "55 5.5 2.8722813232690143 8.25 10 1\n"
     ]
    }
   ],
   "source": [
    "# your code is here\n",
    "print(np.sum(x), np.mean(x), np.std(x), np.var(x), np.max(x), np.min(x))"
   ]
  },
  {
   "cell_type": "markdown",
   "metadata": {
    "id": "0Db2EBujS1x2"
   },
   "source": [
    "###Task: Create a numpy matrix X as n * m, print the sum, mean, std, var, max, min of the 1st row of it."
   ]
  },
  {
   "cell_type": "code",
   "execution_count": 59,
   "metadata": {
    "id": "i_PJh-WyUe-h"
   },
   "outputs": [
    {
     "name": "stdout",
     "output_type": "stream",
     "text": [
      "6 2.0 0.816496580927726 0.6666666666666666 3 1\n"
     ]
    }
   ],
   "source": [
    "# your code is here\n",
    "x = np.arange(1,13).reshape(4,3)\n",
    "x\n",
    "print(np.sum(x[0]), np.mean(x[0]), np.std(x[0]), np.var(x[0]), np.max(x[0]), np.min(x[0]))"
   ]
  },
  {
   "cell_type": "markdown",
   "metadata": {
    "id": "MUPGzrQIS8SJ"
   },
   "source": [
    "###Task: Create a numpy matrix X as n * m, print the sum, mean, std, var, max, min of the 1st column of it."
   ]
  },
  {
   "cell_type": "code",
   "execution_count": 60,
   "metadata": {
    "id": "d9ufG5uWUfd0"
   },
   "outputs": [
    {
     "name": "stdout",
     "output_type": "stream",
     "text": [
      "15 5.0 3.265986323710904 10.666666666666666 9 1\n"
     ]
    }
   ],
   "source": [
    "# your code is here\n",
    "x = np.arange(1,13).reshape(3,4)\n",
    "x\n",
    "print(np.sum(x[:,0]), np.mean(x[:,0]), np.std(x[:,0]), np.var(x[:,0]), np.max(x[:,0]), np.min(x[:,0]))"
   ]
  },
  {
   "cell_type": "markdown",
   "metadata": {
    "id": "fl9WXnhTTAol"
   },
   "source": [
    "## Array Linear Algebra"
   ]
  },
  {
   "cell_type": "markdown",
   "metadata": {
    "id": "Ll4gLDnfSOTv"
   },
   "source": [
    "###Task: Create two numpy matrix X with 2 * 2, and Y with 2 * 2. Practice Linear Algebra operations, such as +, -, *, .T, @, etc. "
   ]
  },
  {
   "cell_type": "code",
   "execution_count": 66,
   "metadata": {
    "id": "T3K8rFcMUgPT"
   },
   "outputs": [
    {
     "data": {
      "text/plain": [
       "array([[1, 7],\n",
       "       [2, 8]])"
      ]
     },
     "execution_count": 66,
     "metadata": {},
     "output_type": "execute_result"
    }
   ],
   "source": [
    "# your code is here\n",
    "x = np.array([[1,2],\n",
    "             [7,8]])\n",
    "\n",
    "y = np.array([[3,4],\n",
    "             [4,5]])"
   ]
  },
  {
   "cell_type": "code",
   "execution_count": null,
   "metadata": {},
   "outputs": [],
   "source": []
  }
 ],
 "metadata": {
  "colab": {
   "authorship_tag": "ABX9TyPOArmpLN0idHX0WDYsVXp6",
   "collapsed_sections": [],
   "name": "M2Lab1-Numpy.ipynb",
   "provenance": [],
   "toc_visible": true
  },
  "kernelspec": {
   "display_name": "Python 3 (ipykernel)",
   "language": "python",
   "name": "python3"
  },
  "language_info": {
   "codemirror_mode": {
    "name": "ipython",
    "version": 3
   },
   "file_extension": ".py",
   "mimetype": "text/x-python",
   "name": "python",
   "nbconvert_exporter": "python",
   "pygments_lexer": "ipython3",
   "version": "3.11.2"
  }
 },
 "nbformat": 4,
 "nbformat_minor": 4
}
