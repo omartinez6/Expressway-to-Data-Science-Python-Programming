{
 "cells": [
  {
   "cell_type": "markdown",
   "metadata": {
    "id": "cnAUJprJdh9_"
   },
   "source": [
    "# Welcome to our Lab Practice!"
   ]
  },
  {
   "cell_type": "markdown",
   "metadata": {
    "id": "vVYcayGedmms"
   },
   "source": [
    "This lab is all about defining nested functions. Are you ready? Let's get started!"
   ]
  },
  {
   "cell_type": "markdown",
   "metadata": {
    "id": "JP8eGBVyeSQx"
   },
   "source": [
    "You will find some small tasks in sections below. After defining functions, call them to test."
   ]
  },
  {
   "cell_type": "markdown",
   "metadata": {
    "id": "D8pWdoN7d6Dy"
   },
   "source": [
    "## Define nestted functions. "
   ]
  },
  {
   "cell_type": "markdown",
   "metadata": {
    "id": "TTqVA_ew48Sn"
   },
   "source": [
    "###Task: Calculator\n",
    "\n",
    "1.   Define a function that ask the user to input a number\n",
    "2.   Define a function that computes the sum of two numbers\n",
    "3.   Define a function that computes the substraction of two numbers\n",
    "4.   Define a function that computes the product of two numbers\n",
    "5.   Define a function that computes the division of two numbers\n",
    "6.   Define a function that print the arithmetic operation result of two numbers by calling functions defined above\n",
    "\n",
    "\n"
   ]
  },
  {
   "cell_type": "code",
   "execution_count": 4,
   "metadata": {
    "id": "4l8oECs25O26"
   },
   "outputs": [],
   "source": [
    "# your code will be here\n",
    "def get_num():\n",
    "    return int(input('Ingresa un número:'))\n",
    "\n",
    "def sum_xy(x,y):\n",
    "    return x + y\n",
    "\n",
    "def subs_xy(x,y):\n",
    "    return x - y\n",
    "\n",
    "def prod_xy(x,y):\n",
    "    return x * y\n",
    "\n",
    "def div_xy(x,y):\n",
    "    return x / y\n",
    "\n",
    "def arithmetic():\n",
    "    x = get_num()\n",
    "    y = get_num()\n",
    "    print(x,' + ',y,' = ',sum_xy(x,y))\n",
    "    print(x,' - ',y,' = ',subs_xy(x,y))\n",
    "    print(x,' * ',y,' = ',prod_xy(x,y))\n",
    "    print(x,' / ',y,' = ',div_xy(x,y))"
   ]
  },
  {
   "cell_type": "code",
   "execution_count": 5,
   "metadata": {},
   "outputs": [
    {
     "name": "stdin",
     "output_type": "stream",
     "text": [
      "Ingresa un número: 8\n",
      "Ingresa un número: 9\n"
     ]
    },
    {
     "name": "stdout",
     "output_type": "stream",
     "text": [
      "8  +  9  =  17\n",
      "8  -  9  =  -1\n",
      "8  *  9  =  72\n",
      "8  /  9  =  0.8888888888888888\n"
     ]
    }
   ],
   "source": [
    "arithmetic()"
   ]
  },
  {
   "cell_type": "markdown",
   "metadata": {
    "id": "9hfJ0kha5G_A"
   },
   "source": [
    "###Task: Statistics\n",
    "\n",
    "1.   Define a function that ask the user to input a number\n",
    "2.   Define a function that computes the min of three numbers\n",
    "3.   Define a function that computes the max of three numbers\n",
    "4.   Define a function that computes the total of three numbers\n",
    "5.   Define a function that computes the average of three numbers\n",
    "6.   Define a function that print the statistics of the three numbers by calling functions defineda bove"
   ]
  },
  {
   "cell_type": "code",
   "execution_count": 19,
   "metadata": {
    "id": "qL379kld5PX0"
   },
   "outputs": [],
   "source": [
    "# your code will be here\n",
    "def get_num():\n",
    "    return int(input('Ingresa un número:'))\n",
    "\n",
    "def min_three(x,y,z):\n",
    "    min = x\n",
    "    if y < min:\n",
    "        min = y\n",
    "    if z < min:\n",
    "        min = z\n",
    "    return min\n",
    "\n",
    "def max_three(x,y,z):\n",
    "    max = x\n",
    "    if y > max:\n",
    "        max = y\n",
    "    if z > max:\n",
    "        max = z\n",
    "    return max\n",
    "\n",
    "def ttl_three(x,y,z):\n",
    "    return x + y + z\n",
    "\n",
    "def avg_three(x,y,z):\n",
    "    return ttl_three(x,y,z) / 3\n",
    "\n",
    "def statistics():\n",
    "    x = get_num()\n",
    "    y = get_num()\n",
    "    z = get_num()\n",
    "    print('minumum number is',min_three(x,y,z))\n",
    "    print('maximum number is',max_three(x,y,z))\n",
    "    print('total is',ttl_three(x,y,z))\n",
    "    print('average is',avg_three(x,y,z))"
   ]
  },
  {
   "cell_type": "code",
   "execution_count": 20,
   "metadata": {},
   "outputs": [
    {
     "name": "stdin",
     "output_type": "stream",
     "text": [
      "Ingresa un número: 9\n",
      "Ingresa un número: 5\n",
      "Ingresa un número: 1\n"
     ]
    },
    {
     "name": "stdout",
     "output_type": "stream",
     "text": [
      "minumum number is 1\n",
      "maximum number is 9\n",
      "total is 15\n",
      "average is 5.0\n"
     ]
    }
   ],
   "source": [
    "statistics()"
   ]
  },
  {
   "cell_type": "markdown",
   "metadata": {
    "id": "rXgbUIBRgQoG"
   },
   "source": [
    "###Task: Simple Calculator\n",
    "\n",
    "\n",
    "1.   Define a function that increment an integer x by 1, x is a parameter\n",
    "2.   Define a function that decrement an integer x by 1, x is a parameter\n",
    "3.   Define a function that computes *x* $+$ *y* by using functions defined above, where x and y are parameters and you cannot directly use x $+$ y in your definition.\n",
    "4.   Define a function that computes *x* $-$ *y* by using functions defined above, where x and y are parameters and you cannot directly use x $-$ y in your definition.\n",
    "5.   Define a function that computes *x* $\\times$ *y* by using functions defined above, where x and y are parameters and you cannot directly use x * y in your definition.\n",
    "6.   Define a function that computes *x* $**$ *y* by using functios defined above, where x and y are parameters and you cannot directly use *x* $**$ *y* in your definition\n",
    "7.   Define a function that takes two arguments, x and y, and print the addition (x $+$ y), substraction(x $-$ y), product(x $\\times$ y), and exponent(x**y) of these two arguments"
   ]
  },
  {
   "cell_type": "code",
   "execution_count": null,
   "metadata": {
    "id": "oIKwmW2mfe3d"
   },
   "outputs": [],
   "source": [
    "# your code will be here\n",
    "def"
   ]
  }
 ],
 "metadata": {
  "colab": {
   "authorship_tag": "ABX9TyMrgQxnO6jrk9WXy1GcSyBn",
   "collapsed_sections": [],
   "name": "M4Lab1.ipynb",
   "provenance": [],
   "toc_visible": true
  },
  "kernelspec": {
   "display_name": "Python 3 (ipykernel)",
   "language": "python",
   "name": "python3"
  },
  "language_info": {
   "codemirror_mode": {
    "name": "ipython",
    "version": 3
   },
   "file_extension": ".py",
   "mimetype": "text/x-python",
   "name": "python",
   "nbconvert_exporter": "python",
   "pygments_lexer": "ipython3",
   "version": "3.11.2"
  }
 },
 "nbformat": 4,
 "nbformat_minor": 4
}
