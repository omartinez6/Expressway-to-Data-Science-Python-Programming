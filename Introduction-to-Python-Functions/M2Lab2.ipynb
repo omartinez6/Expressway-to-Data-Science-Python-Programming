{
 "cells": [
  {
   "cell_type": "markdown",
   "metadata": {
    "id": "cnAUJprJdh9_"
   },
   "source": [
    "# Welcome to our Lab Practice!"
   ]
  },
  {
   "cell_type": "markdown",
   "metadata": {
    "id": "vVYcayGedmms"
   },
   "source": [
    "This lab is all about defining functions with multiple parameters. Are you ready? Let's go!"
   ]
  },
  {
   "cell_type": "markdown",
   "metadata": {
    "id": "JP8eGBVyeSQx"
   },
   "source": [
    "You will find some small tasks in sections below. After defining functions, call them to test."
   ]
  },
  {
   "cell_type": "markdown",
   "metadata": {
    "id": "MBpHkOhIfmrY"
   },
   "source": [
    "###Task: define a function that print \"*message*\" *n* times, where *message* and *n* are parameters"
   ]
  },
  {
   "cell_type": "code",
   "execution_count": 2,
   "metadata": {
    "id": "Orw6NIIef0Wp"
   },
   "outputs": [
    {
     "name": "stdout",
     "output_type": "stream",
     "text": [
      "Hola\n",
      "Hola\n",
      "Hola\n",
      "Hola\n",
      "Hola\n",
      "Hola\n",
      "Hola\n"
     ]
    }
   ],
   "source": [
    "# your code will be here\n",
    "def nMessage(message,n):\n",
    "    for x in range(n):\n",
    "        print(message)\n",
    "        \n",
    "nMessage(\"Hola\",7)"
   ]
  },
  {
   "cell_type": "markdown",
   "metadata": {
    "id": "DVjL6nU0f2Z_"
   },
   "source": [
    "###Task: define a function that print integers *n*  to *m* (hint: you can use a for loop), where *n* and *m* are parameters, and *n < m*.\n",
    "\n",
    "Challenge: Can you write a program that doesn't require *n < m*? "
   ]
  },
  {
   "cell_type": "code",
   "execution_count": 3,
   "metadata": {
    "id": "2iYaPzVSghML"
   },
   "outputs": [
    {
     "name": "stdout",
     "output_type": "stream",
     "text": [
      "2\n",
      "3\n",
      "1\n",
      "2\n",
      "3\n",
      "4\n"
     ]
    }
   ],
   "source": [
    "# your code will be here\n",
    "def nmInt(n,m):\n",
    "    if m < n:\n",
    "        for x in range(m,n):\n",
    "            print(x)\n",
    "    else:\n",
    "        for x in range(n,m):\n",
    "            print(x)\n",
    "            \n",
    "nmInt(2,4)\n",
    "nmInt(5,1)"
   ]
  },
  {
   "cell_type": "markdown",
   "metadata": {
    "id": "YhJrQh4eghzb"
   },
   "source": [
    "###Task: define a function that print the sum of *n*  to *m*, where *n, m* are parameters, and *n* < *m*."
   ]
  },
  {
   "cell_type": "code",
   "execution_count": 4,
   "metadata": {
    "id": "n2Mm6RVYgwOq"
   },
   "outputs": [
    {
     "name": "stdout",
     "output_type": "stream",
     "text": [
      "17\n"
     ]
    }
   ],
   "source": [
    "# your code will be here\n",
    "def nmSum(n,m):\n",
    "    if n < m:\n",
    "        print(n + m)\n",
    "        \n",
    "nmSum(8,9)\n",
    "nmSum(12,1)"
   ]
  },
  {
   "cell_type": "markdown",
   "metadata": {
    "id": "LzU4n3lDgzMR"
   },
   "source": [
    "###Task: define a function that print the AND logical operation of *condition1* and *condition 2*, where *condition1, condition2* are parameters."
   ]
  },
  {
   "cell_type": "code",
   "execution_count": 5,
   "metadata": {
    "id": "aoARtrf-hEJR"
   },
   "outputs": [
    {
     "name": "stdout",
     "output_type": "stream",
     "text": [
      "False\n",
      "True\n"
     ]
    }
   ],
   "source": [
    "# your code will be here\n",
    "def andL(condition1,condition2):\n",
    "    print(condition1 and condition2)\n",
    "    \n",
    "andL(True,False)\n",
    "andL(True,True)"
   ]
  },
  {
   "cell_type": "markdown",
   "metadata": {
    "id": "WLCfkBtOhEfa"
   },
   "source": [
    "###Task: define a function that print if *n* is dividible by *m*, where *n, m* are parameters."
   ]
  },
  {
   "cell_type": "code",
   "execution_count": 6,
   "metadata": {
    "id": "h_aYoPmWhPRL"
   },
   "outputs": [
    {
     "name": "stdout",
     "output_type": "stream",
     "text": [
      "10 is divisible by 5\n"
     ]
    }
   ],
   "source": [
    "# your code will be here\n",
    "def nDivisible(n,m):\n",
    "    if n % m == 0:\n",
    "        print(n,'is divisible by',m)\n",
    "        \n",
    "nDivisible(5,2)\n",
    "nDivisible(10,5)"
   ]
  },
  {
   "cell_type": "markdown",
   "metadata": {
    "id": "RNil8H04hUDq"
   },
   "source": [
    "###Task: define a function that print the minimal number from *x, y, z*, where *x, y, z* are parameters"
   ]
  },
  {
   "cell_type": "code",
   "execution_count": 9,
   "metadata": {
    "id": "HaZfxaajhhn8"
   },
   "outputs": [
    {
     "name": "stdout",
     "output_type": "stream",
     "text": [
      "1\n",
      "1\n"
     ]
    }
   ],
   "source": [
    "# your code will be here\n",
    "def minimum(x,y,z):\n",
    "    min = x\n",
    "    if y < min:\n",
    "        min = y\n",
    "    if z < min:\n",
    "        min = z\n",
    "    print(min)\n",
    "    \n",
    "minimum(1,2,3)\n",
    "minimum(9,5,1)"
   ]
  }
 ],
 "metadata": {
  "colab": {
   "authorship_tag": "ABX9TyOkauti1DOQK2y+ygbW/LCH",
   "collapsed_sections": [],
   "name": "M2Lab2.ipynb",
   "provenance": [],
   "toc_visible": true
  },
  "kernelspec": {
   "display_name": "Python 3 (ipykernel)",
   "language": "python",
   "name": "python3"
  },
  "language_info": {
   "codemirror_mode": {
    "name": "ipython",
    "version": 3
   },
   "file_extension": ".py",
   "mimetype": "text/x-python",
   "name": "python",
   "nbconvert_exporter": "python",
   "pygments_lexer": "ipython3",
   "version": "3.11.0"
  }
 },
 "nbformat": 4,
 "nbformat_minor": 4
}
