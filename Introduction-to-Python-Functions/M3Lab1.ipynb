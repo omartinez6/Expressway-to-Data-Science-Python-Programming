{
 "cells": [
  {
   "cell_type": "markdown",
   "metadata": {
    "id": "cnAUJprJdh9_"
   },
   "source": [
    "# Welcome to our third Lab Practice!"
   ]
  },
  {
   "cell_type": "markdown",
   "metadata": {
    "id": "vVYcayGedmms"
   },
   "source": [
    "This lab is all about defining functions with return values. Are you ready? Let's get started!"
   ]
  },
  {
   "cell_type": "markdown",
   "metadata": {
    "id": "JP8eGBVyeSQx"
   },
   "source": [
    "You will find some small tasks in sections below. After defining functions, call them to test."
   ]
  },
  {
   "cell_type": "markdown",
   "metadata": {
    "id": "D8pWdoN7d6Dy"
   },
   "source": [
    "## Define functions with return numeric values. "
   ]
  },
  {
   "cell_type": "markdown",
   "metadata": {
    "id": "TTqVA_ew48Sn"
   },
   "source": [
    "###Task: define a function that return the absolute value of *n*, where *n* is a parameter"
   ]
  },
  {
   "cell_type": "code",
   "execution_count": 1,
   "metadata": {
    "id": "4l8oECs25O26"
   },
   "outputs": [
    {
     "data": {
      "text/plain": [
       "9"
      ]
     },
     "execution_count": 1,
     "metadata": {},
     "output_type": "execute_result"
    }
   ],
   "source": [
    "# your code will be here\n",
    "def abs(x):\n",
    "    if x < 0:\n",
    "        return -x\n",
    "    else:\n",
    "        return x\n",
    "    \n",
    "abs(-9)"
   ]
  },
  {
   "cell_type": "markdown",
   "metadata": {
    "id": "9hfJ0kha5G_A"
   },
   "source": [
    "###Task: define a function that return the product value of *n* and *m*, where *n, m* are parameters"
   ]
  },
  {
   "cell_type": "code",
   "execution_count": 2,
   "metadata": {
    "id": "qL379kld5PX0"
   },
   "outputs": [
    {
     "data": {
      "text/plain": [
       "50"
      ]
     },
     "execution_count": 2,
     "metadata": {},
     "output_type": "execute_result"
    }
   ],
   "source": [
    "# your code will be here\n",
    "def product(n,m):\n",
    "    return n * m\n",
    "\n",
    "product(5,10)"
   ]
  },
  {
   "cell_type": "markdown",
   "metadata": {
    "id": "OMTGtjW15P17"
   },
   "source": [
    "###Task: define a function that return the result of raise *n* to the power of *m*, where *n, m* are parameters"
   ]
  },
  {
   "cell_type": "code",
   "execution_count": 3,
   "metadata": {
    "id": "DgxIaShR5XTE"
   },
   "outputs": [
    {
     "data": {
      "text/plain": [
       "9"
      ]
     },
     "execution_count": 3,
     "metadata": {},
     "output_type": "execute_result"
    }
   ],
   "source": [
    "# your code will be here\n",
    "def power(n,m):\n",
    "    return n ** m\n",
    "\n",
    "power(3,2)"
   ]
  },
  {
   "cell_type": "markdown",
   "metadata": {
    "id": "tsRyQIt65f2J"
   },
   "source": [
    "###Task: define a function that return the average of three numbers, *x, y, z*, where *x, y, z* are parameters"
   ]
  },
  {
   "cell_type": "code",
   "execution_count": 4,
   "metadata": {
    "id": "_eG8Xzde5ruo"
   },
   "outputs": [
    {
     "data": {
      "text/plain": [
       "2.0"
      ]
     },
     "execution_count": 4,
     "metadata": {},
     "output_type": "execute_result"
    }
   ],
   "source": [
    "# your code will be here\n",
    "def average(x,y,z):\n",
    "    return (x + y + z) / 3\n",
    "\n",
    "average(1,2,3)"
   ]
  },
  {
   "cell_type": "markdown",
   "metadata": {
    "id": "TQZ68OBs5amt"
   },
   "source": [
    "###Task: define a function that return the minimal of three numbers, *x, y, z*, where *x, y, z* are parameters"
   ]
  },
  {
   "cell_type": "code",
   "execution_count": 6,
   "metadata": {
    "id": "47f7Q_AIRMUW"
   },
   "outputs": [
    {
     "data": {
      "text/plain": [
       "-6"
      ]
     },
     "execution_count": 6,
     "metadata": {},
     "output_type": "execute_result"
    }
   ],
   "source": [
    "# your code will be here\n",
    "def minimum(x,y,z):\n",
    "    min = x\n",
    "    if y < min:\n",
    "        min = y\n",
    "    if z < min:\n",
    "        min = z\n",
    "    return min\n",
    "\n",
    "minimum(1,8,-6)"
   ]
  },
  {
   "cell_type": "markdown",
   "metadata": {
    "id": "1y6noqXNRMpG"
   },
   "source": [
    "###Task: define a function that print sum of integers 1 to *n* (hint: you can use a for loop), where *n* is a parameter"
   ]
  },
  {
   "cell_type": "code",
   "execution_count": 7,
   "metadata": {
    "id": "J6RMucgP54b-"
   },
   "outputs": [
    {
     "data": {
      "text/plain": [
       "1225"
      ]
     },
     "execution_count": 7,
     "metadata": {},
     "output_type": "execute_result"
    }
   ],
   "source": [
    "# your code will be here\n",
    "def sumRange(n):\n",
    "    sum = 0\n",
    "    for x in range(1,n,1):\n",
    "        sum = sum + x\n",
    "    return sum\n",
    "\n",
    "sumRange(50)"
   ]
  },
  {
   "cell_type": "markdown",
   "metadata": {
    "id": "qzuHvz8d6ICV"
   },
   "source": [
    "## Define functions with return str values. "
   ]
  },
  {
   "cell_type": "markdown",
   "metadata": {
    "id": "rXgbUIBRgQoG"
   },
   "source": [
    "###Task: define a function that return \"hello, *name*\" where *name* is a parameter"
   ]
  },
  {
   "cell_type": "code",
   "execution_count": 8,
   "metadata": {
    "id": "oIKwmW2mfe3d"
   },
   "outputs": [
    {
     "data": {
      "text/plain": [
       "'Hello, Osvaldo'"
      ]
     },
     "execution_count": 8,
     "metadata": {},
     "output_type": "execute_result"
    }
   ],
   "source": [
    "# your code will be here\n",
    "def helloName(name):\n",
    "    return 'Hello, ' + name\n",
    "\n",
    "helloName('Osvaldo')"
   ]
  },
  {
   "cell_type": "markdown",
   "metadata": {
    "id": "h-mrQgK7RKqm"
   },
   "source": [
    "###Task: define a function that return \"hello world\" *n* times, where *n* is a parameter"
   ]
  },
  {
   "cell_type": "code",
   "execution_count": 11,
   "metadata": {
    "id": "FR7idsVORX5_"
   },
   "outputs": [
    {
     "name": "stdout",
     "output_type": "stream",
     "text": [
      "Hello, World\n",
      "Hello, World\n",
      "Hello, World\n",
      "Hello, World\n",
      "Hello, World\n",
      "Hello, World\n",
      "Hello, World\n",
      "Hello, World\n",
      "Hello, World\n",
      "Hello, World\n"
     ]
    }
   ],
   "source": [
    "# your code will be here\n",
    "def hello_world_n(n):\n",
    "    paste = ''\n",
    "    for x in range(n):\n",
    "        paste = \"Hello, World\\n\" + paste\n",
    "    return paste\n",
    "\n",
    "print(hello_world_n(10),end='')"
   ]
  },
  {
   "cell_type": "markdown",
   "metadata": {
    "id": "OoTXs3WERYju"
   },
   "source": [
    "###Task: define a function that concatenate message 1 and message 2 together and return it"
   ]
  },
  {
   "cell_type": "code",
   "execution_count": 12,
   "metadata": {
    "id": "2pS4qJ54RhKf"
   },
   "outputs": [
    {
     "data": {
      "text/plain": [
       "'Hello, World'"
      ]
     },
     "execution_count": 12,
     "metadata": {},
     "output_type": "execute_result"
    }
   ],
   "source": [
    "# your code will be here\n",
    "def messages(message1,message2):\n",
    "    return message1 + ' ' + message2\n",
    "\n",
    "messages(\"Hello,\",\"World\")"
   ]
  },
  {
   "cell_type": "markdown",
   "metadata": {
    "id": "IczuyqDQ6bQG"
   },
   "source": [
    "## Define functions with return boolean values. "
   ]
  },
  {
   "cell_type": "markdown",
   "metadata": {
    "id": "yU8y7mCoRmRH"
   },
   "source": [
    "###Task: define a function that return the boolean value for given *n* is even or not, *n* is a parameter"
   ]
  },
  {
   "cell_type": "code",
   "execution_count": 13,
   "metadata": {
    "id": "g67KsRe3R2KG"
   },
   "outputs": [
    {
     "data": {
      "text/plain": [
       "False"
      ]
     },
     "execution_count": 13,
     "metadata": {},
     "output_type": "execute_result"
    }
   ],
   "source": [
    "# your code will be here\n",
    "def is_even(n):\n",
    "    if n % 2 == 0:\n",
    "        return True\n",
    "    else:\n",
    "        return False\n",
    "\n",
    "is_even(5)"
   ]
  },
  {
   "cell_type": "markdown",
   "metadata": {
    "id": "QPoCScdkheK3"
   },
   "source": [
    "###Task: define a function that return the boolean value for given *n* is odd or not, *n* is a parameter"
   ]
  },
  {
   "cell_type": "code",
   "execution_count": 14,
   "metadata": {
    "id": "tsFowDAKhJCB"
   },
   "outputs": [
    {
     "data": {
      "text/plain": [
       "True"
      ]
     },
     "execution_count": 14,
     "metadata": {},
     "output_type": "execute_result"
    }
   ],
   "source": [
    "# your code will be here\n",
    "# your code will be here\n",
    "def is_odd(n):\n",
    "    if n % 2 != 0:\n",
    "        return True\n",
    "    else:\n",
    "        return False\n",
    "\n",
    "is_odd(5)"
   ]
  },
  {
   "cell_type": "markdown",
   "metadata": {
    "id": "OhfIcNFH6oV2"
   },
   "source": [
    "###Task: define a function that return the boolean value for given *n* is prime number or not, *n* is a parameter"
   ]
  },
  {
   "cell_type": "code",
   "execution_count": 41,
   "metadata": {
    "id": "dUOiwszHhsEN"
   },
   "outputs": [
    {
     "data": {
      "text/plain": [
       "False"
      ]
     },
     "execution_count": 41,
     "metadata": {},
     "output_type": "execute_result"
    }
   ],
   "source": [
    "# your code will be here\n",
    "def is_prime(n):\n",
    "    for x in range(2,n):\n",
    "        if n % x == 0:\n",
    "            return False\n",
    "    else:\n",
    "        return True\n",
    "\n",
    "is_prime(9)"
   ]
  },
  {
   "cell_type": "markdown",
   "metadata": {
    "id": "KgwXzV3x6quL"
   },
   "source": [
    "###Task: define a function that return the boolean value for given *n* is positive (>0) or not, *n* is a parameter"
   ]
  },
  {
   "cell_type": "code",
   "execution_count": 44,
   "metadata": {
    "id": "-lVtxeAmhv9t"
   },
   "outputs": [
    {
     "data": {
      "text/plain": [
       "False"
      ]
     },
     "execution_count": 44,
     "metadata": {},
     "output_type": "execute_result"
    }
   ],
   "source": [
    "# your code will be here\n",
    "def is_positive(n):\n",
    "    if n < 0:\n",
    "        return False\n",
    "    else:\n",
    "        return True\n",
    "\n",
    "is_positive(-8)"
   ]
  },
  {
   "cell_type": "markdown",
   "metadata": {
    "id": "TE6Df1WYhu10"
   },
   "source": [
    "###Task: define a function that return the boolean value for whether or not given *n* is divisible by 6, *n* is a parameter"
   ]
  },
  {
   "cell_type": "code",
   "execution_count": 45,
   "metadata": {
    "id": "MSjQbhNXhJVV"
   },
   "outputs": [
    {
     "data": {
      "text/plain": [
       "True"
      ]
     },
     "execution_count": 45,
     "metadata": {},
     "output_type": "execute_result"
    }
   ],
   "source": [
    "# your code will be here\n",
    "def divisible_by_6(n):\n",
    "    if n % 6 == 0:\n",
    "        return True\n",
    "    else:\n",
    "        return False\n",
    "\n",
    "divisible_by_6(96)"
   ]
  },
  {
   "cell_type": "markdown",
   "metadata": {
    "id": "AIZ2bTqjfjxf"
   },
   "source": [
    "## Define functions return multiple values. "
   ]
  },
  {
   "cell_type": "markdown",
   "metadata": {
    "id": "MBpHkOhIfmrY"
   },
   "source": [
    "###Task: define a function that return the min, max, avg, and total of given 3 numbers *x, y, z*, where *x, y, z* are parameters"
   ]
  },
  {
   "cell_type": "code",
   "execution_count": 48,
   "metadata": {
    "id": "Orw6NIIef0Wp"
   },
   "outputs": [
    {
     "name": "stdout",
     "output_type": "stream",
     "text": [
      "5 9 7.0 21\n"
     ]
    }
   ],
   "source": [
    "# your code will be here\n",
    "def min_max_avg(x,y,z):\n",
    "    min = x\n",
    "    max = x\n",
    "    total = x + y + z\n",
    "    if y < min:\n",
    "        min = y\n",
    "    if z < min:\n",
    "        min = z\n",
    "    if y > max:\n",
    "        max = y\n",
    "    if z > max:\n",
    "        max = z\n",
    "    avg = total / 3\n",
    "    return min, max, avg, total\n",
    "\n",
    "min, max, avg, total = min_max_avg(5,9,7)\n",
    "print(min,max,avg,total)"
   ]
  },
  {
   "cell_type": "code",
   "execution_count": null,
   "metadata": {},
   "outputs": [],
   "source": []
  }
 ],
 "metadata": {
  "colab": {
   "authorship_tag": "ABX9TyOiKbIQX3F7fh/BxI6IVoNB",
   "collapsed_sections": [],
   "name": "M3Lab1.ipynb",
   "provenance": [],
   "toc_visible": true
  },
  "kernelspec": {
   "display_name": "Python 3 (ipykernel)",
   "language": "python",
   "name": "python3"
  },
  "language_info": {
   "codemirror_mode": {
    "name": "ipython",
    "version": 3
   },
   "file_extension": ".py",
   "mimetype": "text/x-python",
   "name": "python",
   "nbconvert_exporter": "python",
   "pygments_lexer": "ipython3",
   "version": "3.11.2"
  }
 },
 "nbformat": 4,
 "nbformat_minor": 4
}
