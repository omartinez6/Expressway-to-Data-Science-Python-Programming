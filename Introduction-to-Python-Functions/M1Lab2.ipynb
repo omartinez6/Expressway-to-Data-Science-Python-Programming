{
 "cells": [
  {
   "cell_type": "markdown",
   "metadata": {
    "id": "cnAUJprJdh9_"
   },
   "source": [
    "# Welcome to our Lab Practice!"
   ]
  },
  {
   "cell_type": "markdown",
   "metadata": {
    "id": "vVYcayGedmms"
   },
   "source": [
    "This lab is all about defining simple functions. Are you ready? Let's go!"
   ]
  },
  {
   "cell_type": "markdown",
   "metadata": {
    "id": "JP8eGBVyeSQx"
   },
   "source": [
    "You will find some small tasks in sections below. "
   ]
  },
  {
   "cell_type": "markdown",
   "metadata": {
    "id": "D8pWdoN7d6Dy"
   },
   "source": [
    "## Define simple functions (without return value and parameters)"
   ]
  },
  {
   "cell_type": "markdown",
   "metadata": {
    "id": "rXgbUIBRgQoG"
   },
   "source": [
    "###Task: define a function that print \"hello world\""
   ]
  },
  {
   "cell_type": "code",
   "execution_count": 6,
   "metadata": {
    "id": "oIKwmW2mfe3d"
   },
   "outputs": [
    {
     "name": "stdout",
     "output_type": "stream",
     "text": [
      "Hello, world!\n"
     ]
    }
   ],
   "source": [
    "# your code will be here\n",
    "def hello_world():\n",
    "    print('Hello, world!')\n",
    "\n",
    "hello_world()"
   ]
  },
  {
   "cell_type": "markdown",
   "metadata": {
    "id": "h-mrQgK7RKqm"
   },
   "source": [
    "###Task: define a function that print \"hello world\" 3 times"
   ]
  },
  {
   "cell_type": "code",
   "execution_count": 7,
   "metadata": {
    "id": "47f7Q_AIRMUW"
   },
   "outputs": [
    {
     "name": "stdout",
     "output_type": "stream",
     "text": [
      "Hello, world!\n",
      "Hello, world!\n",
      "Hello, world!\n"
     ]
    }
   ],
   "source": [
    "# your code will be here\n",
    "def hello_world_3():\n",
    "    for x in range(3):\n",
    "        print('Hello, world!')\n",
    "\n",
    "hello_world_3()"
   ]
  },
  {
   "cell_type": "markdown",
   "metadata": {
    "id": "1y6noqXNRMpG"
   },
   "source": [
    "###Task: define a function that print integers 1 to 10 (hint: you can use a for loop)"
   ]
  },
  {
   "cell_type": "code",
   "execution_count": 8,
   "metadata": {
    "id": "FR7idsVORX5_"
   },
   "outputs": [
    {
     "name": "stdout",
     "output_type": "stream",
     "text": [
      "1\n",
      "2\n",
      "3\n",
      "4\n",
      "5\n",
      "6\n",
      "7\n",
      "8\n",
      "9\n",
      "10\n"
     ]
    }
   ],
   "source": [
    "# your code will be here\n",
    "def ten():\n",
    "    for x in range(1,11,1):\n",
    "        print(x)\n",
    "\n",
    "ten()"
   ]
  },
  {
   "cell_type": "markdown",
   "metadata": {
    "id": "OoTXs3WERYju"
   },
   "source": [
    "###Task: define a function that print primary integers in 100 (hint: you can use loops)"
   ]
  },
  {
   "cell_type": "code",
   "execution_count": 3,
   "metadata": {
    "id": "2pS4qJ54RhKf"
   },
   "outputs": [
    {
     "name": "stdout",
     "output_type": "stream",
     "text": [
      "1\n",
      "2\n",
      "3\n",
      "5\n",
      "7\n",
      "11\n",
      "13\n",
      "17\n",
      "19\n",
      "23\n",
      "29\n",
      "31\n",
      "37\n",
      "41\n",
      "43\n",
      "47\n",
      "53\n",
      "59\n",
      "61\n",
      "67\n",
      "71\n",
      "73\n",
      "79\n",
      "83\n",
      "89\n",
      "97\n"
     ]
    }
   ],
   "source": [
    "# your code will be here\n",
    "def prime_100():\n",
    "    for i in range(1, 100):\n",
    "        prime = True\n",
    "        for j in range(2, i):\n",
    "            if i % j == 0:\n",
    "                prime = False\n",
    "                break\n",
    "        if prime:\n",
    "            print(i)\n",
    "\n",
    "prime_100()"
   ]
  },
  {
   "cell_type": "markdown",
   "metadata": {
    "id": "yU8y7mCoRmRH"
   },
   "source": [
    "###Task: define a function that print even number from 1 to 10."
   ]
  },
  {
   "cell_type": "code",
   "execution_count": 10,
   "metadata": {
    "id": "g67KsRe3R2KG"
   },
   "outputs": [
    {
     "name": "stdout",
     "output_type": "stream",
     "text": [
      "2\n",
      "4\n",
      "6\n",
      "8\n",
      "10\n"
     ]
    }
   ],
   "source": [
    "# your code will be here\n",
    "def even():\n",
    "    for x in range(2,11,2):\n",
    "        print(x)\n",
    "\n",
    "even()"
   ]
  },
  {
   "cell_type": "markdown",
   "metadata": {
    "id": "QPoCScdkheK3"
   },
   "source": [
    "###Task: define a function that print odd number from 1 to 10"
   ]
  },
  {
   "cell_type": "code",
   "execution_count": 11,
   "metadata": {
    "id": "tsFowDAKhJCB"
   },
   "outputs": [
    {
     "name": "stdout",
     "output_type": "stream",
     "text": [
      "1\n",
      "3\n",
      "5\n",
      "7\n",
      "9\n"
     ]
    }
   ],
   "source": [
    "# your code will be here\n",
    "def odd():\n",
    "    for x in range(1,11,2):\n",
    "        print(x)\n",
    "\n",
    "odd()"
   ]
  },
  {
   "cell_type": "markdown",
   "metadata": {
    "id": "TE6Df1WYhu10"
   },
   "source": [
    "###Task: define a function that print \"Welcome to Course 2\""
   ]
  },
  {
   "cell_type": "code",
   "execution_count": 12,
   "metadata": {
    "id": "MSjQbhNXhJVV"
   },
   "outputs": [
    {
     "name": "stdout",
     "output_type": "stream",
     "text": [
      "Welcome to course 2\n"
     ]
    }
   ],
   "source": [
    "# your code will be here\n",
    "def welcome():\n",
    "    print('Welcome to course 2')\n",
    "\n",
    "welcome()"
   ]
  },
  {
   "cell_type": "markdown",
   "metadata": {
    "id": "4iCITSR6h7Yv"
   },
   "source": [
    "###Task: define a function that print \"Welcome to Course 2\" 10 times."
   ]
  },
  {
   "cell_type": "code",
   "execution_count": 13,
   "metadata": {
    "id": "EKsuK9O6jW7D"
   },
   "outputs": [
    {
     "name": "stdout",
     "output_type": "stream",
     "text": [
      "Welcome to course 2\n",
      "Welcome to course 2\n",
      "Welcome to course 2\n",
      "Welcome to course 2\n",
      "Welcome to course 2\n",
      "Welcome to course 2\n",
      "Welcome to course 2\n",
      "Welcome to course 2\n",
      "Welcome to course 2\n",
      "Welcome to course 2\n"
     ]
    }
   ],
   "source": [
    "# your code will be here\n",
    "def welcome_10():\n",
    "    for x in range(10):\n",
    "        welcome()\n",
    "\n",
    "welcome_10()"
   ]
  },
  {
   "cell_type": "code",
   "execution_count": null,
   "metadata": {},
   "outputs": [],
   "source": []
  }
 ],
 "metadata": {
  "colab": {
   "authorship_tag": "ABX9TyMpNrw/osbbmy/30C6QHunO",
   "collapsed_sections": [],
   "name": "M1Lab2.ipynb",
   "provenance": [],
   "toc_visible": true
  },
  "kernelspec": {
   "display_name": "Python 3 (ipykernel)",
   "language": "python",
   "name": "python3"
  },
  "language_info": {
   "codemirror_mode": {
    "name": "ipython",
    "version": 3
   },
   "file_extension": ".py",
   "mimetype": "text/x-python",
   "name": "python",
   "nbconvert_exporter": "python",
   "pygments_lexer": "ipython3",
   "version": "3.11.0"
  }
 },
 "nbformat": 4,
 "nbformat_minor": 4
}
